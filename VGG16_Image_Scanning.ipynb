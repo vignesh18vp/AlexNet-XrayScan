{
  "nbformat": 4,
  "nbformat_minor": 0,
  "metadata": {
    "colab": {
      "name": "EDA_Image_scanning_(2)_(1) (4).ipynb",
      "version": "0.3.2",
      "provenance": [],
      "collapsed_sections": []
    },
    "language_info": {
      "codemirror_mode": {
        "name": "ipython",
        "version": 3
      },
      "file_extension": ".py",
      "mimetype": "text/x-python",
      "name": "python",
      "nbconvert_exporter": "python",
      "pygments_lexer": "ipython3",
      "version": "3.7.3"
    },
    "kernelspec": {
      "display_name": "Python 3",
      "language": "python",
      "name": "python3"
    }
  },
  "cells": [
    {
      "cell_type": "code",
      "metadata": {
        "id": "OKdV0qOeBlRS",
        "colab_type": "code",
        "colab": {}
      },
      "source": [
        "XR_ELBOW_path = \"E:/Projectwork/X Ray Project/MURA-v1.1/MURA-v1.1/sample_XR_ELBOW\""
      ],
      "execution_count": 0,
      "outputs": []
    },
    {
      "cell_type": "code",
      "metadata": {
        "id": "jUsOcZWKf2dr",
        "colab_type": "code",
        "outputId": "1e96626c-b2fe-4be2-fadc-e038c4f0f19e",
        "colab": {
          "base_uri": "https://localhost:8080/",
          "height": 35
        }
      },
      "source": [
        "from keras.preprocessing import image"
      ],
      "execution_count": 1,
      "outputs": [
        {
          "output_type": "stream",
          "text": [
            "Using TensorFlow backend.\n"
          ],
          "name": "stderr"
        }
      ]
    },
    {
      "cell_type": "code",
      "metadata": {
        "id": "01BzUhWaBneR",
        "colab_type": "code",
        "outputId": "68ba55e9-6af4-4158-e2f0-662785afdacb",
        "colab": {
          "base_uri": "https://localhost:8080/",
          "height": 35
        }
      },
      "source": [
        "from google.colab import drive\n",
        "drive.mount('/content/drive')"
      ],
      "execution_count": 2,
      "outputs": [
        {
          "output_type": "stream",
          "text": [
            "Mounted at /content/drive\n"
          ],
          "name": "stdout"
        }
      ]
    },
    {
      "cell_type": "code",
      "metadata": {
        "id": "ViZcPh-HBlRV",
        "colab_type": "code",
        "colab": {}
      },
      "source": [
        "#pip install opencv-python\n",
        "import os\n",
        "import cv2 as cv\n",
        "from keras.utils import to_categorical\n",
        "import keras\n",
        "from keras.models import Sequential\n",
        "from keras.layers import Dense, Activation, Dropout, Flatten,Conv2D, MaxPooling2D\n",
        "from keras.layers.normalization import BatchNormalization\n",
        "from os import listdir\n",
        "from os.path import isfile, join\n",
        "import numpy\n",
        "import cv2\n",
        "from keras import applications\n",
        "from keras.models import Model"
      ],
      "execution_count": 0,
      "outputs": []
    },
    {
      "cell_type": "code",
      "metadata": {
        "id": "PRG3cWZ7YFiQ",
        "colab_type": "code",
        "outputId": "4b91854c-df1c-4767-c8c4-b626147cea50",
        "colab": {
          "base_uri": "https://localhost:8080/",
          "height": 35
        }
      },
      "source": [
        "drive.mount(\"/content/gdrive\", force_remount = True)"
      ],
      "execution_count": 5,
      "outputs": [
        {
          "output_type": "stream",
          "text": [
            "Mounted at /content/gdrive\n"
          ],
          "name": "stdout"
        }
      ]
    },
    {
      "cell_type": "code",
      "metadata": {
        "id": "r3fiH5gBWe9R",
        "colab_type": "code",
        "colab": {}
      },
      "source": [
        "path_image = \"/content/gdrive/My Drive/Data Science/sample_XR_ELBOW\"\n",
        "name_list=os.listdir(path_image)\n",
        "list_folders=[]\n",
        "for i in range(len(name_list)):\n",
        "  gt=os.listdir(path_image+'/'+name_list[i])\n",
        "  list_folders.append(gt)"
      ],
      "execution_count": 0,
      "outputs": []
    },
    {
      "cell_type": "code",
      "metadata": {
        "id": "-YLME0VsYP5y",
        "colab_type": "code",
        "colab": {}
      },
      "source": [
        "list_folders"
      ],
      "execution_count": 0,
      "outputs": []
    },
    {
      "cell_type": "code",
      "metadata": {
        "id": "li1ckYQCSt2B",
        "colab_type": "code",
        "colab": {}
      },
      "source": [
        "name_list"
      ],
      "execution_count": 0,
      "outputs": []
    },
    {
      "cell_type": "code",
      "metadata": {
        "id": "GUi1lfFmBlRY",
        "colab_type": "code",
        "colab": {}
      },
      "source": [
        "#Listing the elbow main directory\n",
        "elbow_list = os.listdir(path_image)\n",
        "elbow_list"
      ],
      "execution_count": 0,
      "outputs": []
    },
    {
      "cell_type": "code",
      "metadata": {
        "id": "SkDIPilfBlRb",
        "colab_type": "code",
        "colab": {}
      },
      "source": [
        "# Seperating Positive and Negative folders\n",
        "list_folder =[]\n",
        "XR_ELBOW_patients = []\n",
        "#XR_ELBOW_patients = []\n",
        "target = []\n",
        "for i in range(len(elbow_list)):\n",
        "    gt = os.listdir(path_image+'/'+elbow_list[i])\n",
        "    #print(gt[0])\n",
        "    #pathgt = path_image+'/'+elbow_list[i] + '/' + str(gt[0])\n",
        "    #print(pathgt)\n",
        "    for j in range(len(gt)):\n",
        "      gt1 = gt[j]\n",
        "      pathgt = path_image+'/'+elbow_list[i] + '/' + str(gt1)\n",
        "      print(pathgt)\n",
        "      print(gt1[7:])\n",
        "      if(gt1[7:]==\"negative\"):\n",
        "        print(gt1[7:])\n",
        "        #imgs = os.listdir(path_image+'/'+elbow_list[i]+'/'+str(gt[j]))\n",
        "        onlyfiles = [ f for f in listdir(pathgt) if isfile(join(pathgt,f)) ]\n",
        "        images = numpy.empty(len(onlyfiles), dtype=object) #Checking if its empty\n",
        "        #print(images)\n",
        "        for n in range(0, len(onlyfiles)):\n",
        "          images[n] = cv2.imread( join(pathgt,onlyfiles[n]) )\n",
        "          images[n]=cv2.resize(images[n], (224,224)) \n",
        "          XR_ELBOW_patients.append(images[n])\n",
        "          target.append(0)\n",
        "      else:\n",
        "        print(gt1[7:])\n",
        "        #imgs = os.listdir(path_image+'/'+elbow_list[i]+'/'+str(gt[j]))\n",
        "        onlyfiles = [ f for f in listdir(pathgt) if isfile(join(pathgt,f)) ]\n",
        "        images = numpy.empty(len(onlyfiles), dtype=object) #Checking if its empty\n",
        "        #print(images)\n",
        "        for n in range(0, len(onlyfiles)):\n",
        "          images[n] = cv2.imread( join(pathgt,onlyfiles[n]) )\n",
        "          images[n]=cv2.resize(images[n], (224,224)) \n",
        "          XR_ELBOW_patients.append(images[n])\n",
        "          target.append(1)\n",
        "       \n",
        "    \n",
        "        "
      ],
      "execution_count": 0,
      "outputs": []
    },
    {
      "cell_type": "code",
      "metadata": {
        "id": "2amhx8MyTxDL",
        "colab_type": "code",
        "outputId": "807d5e6d-f7f8-42cd-a861-c34a9f28b809",
        "colab": {
          "base_uri": "https://localhost:8080/",
          "height": 241
        }
      },
      "source": [
        "#XR_ELBOW_patients[40]\n",
        "img = Image.fromarray(XR_ELBOW_patients[9])\n",
        "img"
      ],
      "execution_count": 0,
      "outputs": [
        {
          "output_type": "execute_result",
          "data": {
            "image/png": "[encoded data removed]",
            "text/plain": [
              "<PIL.Image.Image image mode=RGB size=224x224 at 0x7F98942A24A8>"
            ]
          },
          "metadata": {
            "tags": []
          },
          "execution_count": 168
        }
      ]
    },
    {
      "cell_type": "code",
      "metadata": {
        "id": "Eq2LFmUedu39",
        "colab_type": "code",
        "colab": {}
      },
      "source": [
        "target.shape"
      ],
      "execution_count": 0,
      "outputs": []
    },
    {
      "cell_type": "code",
      "metadata": {
        "id": "3cO__03-T26R",
        "colab_type": "code",
        "outputId": "6c4fa6fb-9955-42e6-8a1f-ef79214b4c9c",
        "colab": {
          "base_uri": "https://localhost:8080/",
          "height": 35
        }
      },
      "source": [
        "target[8]"
      ],
      "execution_count": 0,
      "outputs": [
        {
          "output_type": "execute_result",
          "data": {
            "text/plain": [
              "0"
            ]
          },
          "metadata": {
            "tags": []
          },
          "execution_count": 164
        }
      ]
    },
    {
      "cell_type": "code",
      "metadata": {
        "id": "A-Cca0cBUHRJ",
        "colab_type": "code",
        "colab": {}
      },
      "source": [
        "features=numpy.array(XR_ELBOW_patients)\n",
        "y= to_categorical(target)"
      ],
      "execution_count": 0,
      "outputs": []
    },
    {
      "cell_type": "code",
      "metadata": {
        "id": "JuY8KrFIUXxg",
        "colab_type": "code",
        "outputId": "a4f71d39-7111-47b4-a493-b4470cf27999",
        "colab": {
          "base_uri": "https://localhost:8080/",
          "height": 1000
        }
      },
      "source": [
        "model = Sequential()\n",
        "\n",
        "# 1st Convolutional Layer\n",
        "model.add(Conv2D(filters=96, input_shape=(224,224,3), kernel_size=(11,11),strides=(4,4), padding='valid'))\n",
        "model.add(Activation('relu'))\n",
        "# Pooling \n",
        "model.add(MaxPooling2D(pool_size=(2,2), strides=(2,2), padding='valid'))\n",
        "# Batch Normalisation before passing it to the next layer\n",
        "model.add(BatchNormalization())\n",
        "\n",
        "# 2nd Convolutional Layer\n",
        "model.add(Conv2D(filters=256, kernel_size=(11,11), strides=(1,1), padding='valid'))\n",
        "model.add(Activation('relu'))\n",
        "# Pooling\n",
        "model.add(MaxPooling2D(pool_size=(2,2), strides=(2,2), padding='valid'))\n",
        "# Batch Normalisation\n",
        "model.add(BatchNormalization())\n",
        "\n",
        "# 3rd Convolutional Layer\n",
        "model.add(Conv2D(filters=384, kernel_size=(3,3), strides=(1,1), padding='valid'))\n",
        "model.add(Activation('relu'))\n",
        "# Batch Normalisation\n",
        "model.add(BatchNormalization())\n",
        "\n",
        "# 4th Convolutional Layer\n",
        "model.add(Conv2D(filters=384, kernel_size=(3,3), strides=(1,1), padding='valid'))\n",
        "model.add(Activation('relu'))\n",
        "# Batch Normalisation\n",
        "model.add(BatchNormalization())\n",
        "\n",
        "# 5th Convolutional Layer\n",
        "model.add(Conv2D(filters=256, kernel_size=(3,3), strides=(1,1), padding='valid'))\n",
        "model.add(Activation('relu'))\n",
        "# Pooling\n",
        "model.add(MaxPooling2D(pool_size=(2,2), strides=(2,2), padding='valid'))\n",
        "# Batch Normalisation\n",
        "model.add(BatchNormalization())\n",
        "\n",
        "# Passing it to a dense layer\n",
        "model.add(Flatten())\n",
        "# 1st Dense Layer\n",
        "model.add(Dense(4096, input_shape=(224*224*3,)))\n",
        "model.add(Activation('relu'))\n",
        "# Add Dropout to prevent overfitting\n",
        "model.add(Dropout(0.4))\n",
        "# Batch Normalisation\n",
        "model.add(BatchNormalization())\n",
        "\n",
        "# 2nd Dense Layer\n",
        "model.add(Dense(4096))\n",
        "model.add(Activation('relu'))\n",
        "# Add Dropout\n",
        "model.add(Dropout(0.4))\n",
        "# Batch Normalisation\n",
        "model.add(BatchNormalization())\n",
        "\n",
        "# 3rd Dense Layer\n",
        "model.add(Dense(1000))\n",
        "model.add(Activation('relu'))\n",
        "# Add Dropout\n",
        "model.add(Dropout(0.4))\n",
        "# Batch Normalisation\n",
        "model.add(BatchNormalization())\n",
        "\n",
        "# Output Layer\n",
        "model.add(Dense(2))\n",
        "model.add(Activation('softmax'))\n",
        "\n",
        "model.summary()"
      ],
      "execution_count": 0,
      "outputs": [
        {
          "output_type": "stream",
          "text": [
            "WARNING: Logging before flag parsing goes to stderr.\n",
            "W0803 11:54:05.219887 140294604552064 deprecation_wrapper.py:119] From /usr/local/lib/python3.6/dist-packages/keras/backend/tensorflow_backend.py:74: The name tf.get_default_graph is deprecated. Please use tf.compat.v1.get_default_graph instead.\n",
            "\n",
            "W0803 11:54:05.272280 140294604552064 deprecation_wrapper.py:119] From /usr/local/lib/python3.6/dist-packages/keras/backend/tensorflow_backend.py:517: The name tf.placeholder is deprecated. Please use tf.compat.v1.placeholder instead.\n",
            "\n",
            "W0803 11:54:05.279244 140294604552064 deprecation_wrapper.py:119] From /usr/local/lib/python3.6/dist-packages/keras/backend/tensorflow_backend.py:4138: The name tf.random_uniform is deprecated. Please use tf.random.uniform instead.\n",
            "\n",
            "W0803 11:54:05.333224 140294604552064 deprecation_wrapper.py:119] From /usr/local/lib/python3.6/dist-packages/keras/backend/tensorflow_backend.py:3976: The name tf.nn.max_pool is deprecated. Please use tf.nn.max_pool2d instead.\n",
            "\n",
            "W0803 11:54:05.351343 140294604552064 deprecation_wrapper.py:119] From /usr/local/lib/python3.6/dist-packages/keras/backend/tensorflow_backend.py:174: The name tf.get_default_session is deprecated. Please use tf.compat.v1.get_default_session instead.\n",
            "\n",
            "W0803 11:54:05.352519 140294604552064 deprecation_wrapper.py:119] From /usr/local/lib/python3.6/dist-packages/keras/backend/tensorflow_backend.py:181: The name tf.ConfigProto is deprecated. Please use tf.compat.v1.ConfigProto instead.\n",
            "\n",
            "W0803 11:54:05.649385 140294604552064 deprecation_wrapper.py:119] From /usr/local/lib/python3.6/dist-packages/keras/backend/tensorflow_backend.py:1834: The name tf.nn.fused_batch_norm is deprecated. Please use tf.compat.v1.nn.fused_batch_norm instead.\n",
            "\n",
            "W0803 11:54:06.113606 140294604552064 deprecation.py:506] From /usr/local/lib/python3.6/dist-packages/keras/backend/tensorflow_backend.py:3445: calling dropout (from tensorflow.python.ops.nn_ops) with keep_prob is deprecated and will be removed in a future version.\n",
            "Instructions for updating:\n",
            "Please use `rate` instead of `keep_prob`. Rate should be set to `rate = 1 - keep_prob`.\n"
          ],
          "name": "stderr"
        },
        {
          "output_type": "stream",
          "text": [
            "_________________________________________________________________\n",
            "Layer (type)                 Output Shape              Param #   \n",
            "=================================================================\n",
            "conv2d_1 (Conv2D)            (None, 54, 54, 96)        34944     \n",
            "_________________________________________________________________\n",
            "activation_1 (Activation)    (None, 54, 54, 96)        0         \n",
            "_________________________________________________________________\n",
            "max_pooling2d_1 (MaxPooling2 (None, 27, 27, 96)        0         \n",
            "_________________________________________________________________\n",
            "batch_normalization_1 (Batch (None, 27, 27, 96)        384       \n",
            "_________________________________________________________________\n",
            "conv2d_2 (Conv2D)            (None, 17, 17, 256)       2973952   \n",
            "_________________________________________________________________\n",
            "activation_2 (Activation)    (None, 17, 17, 256)       0         \n",
            "_________________________________________________________________\n",
            "max_pooling2d_2 (MaxPooling2 (None, 8, 8, 256)         0         \n",
            "_________________________________________________________________\n",
            "batch_normalization_2 (Batch (None, 8, 8, 256)         1024      \n",
            "_________________________________________________________________\n",
            "conv2d_3 (Conv2D)            (None, 6, 6, 384)         885120    \n",
            "_________________________________________________________________\n",
            "activation_3 (Activation)    (None, 6, 6, 384)         0         \n",
            "_________________________________________________________________\n",
            "batch_normalization_3 (Batch (None, 6, 6, 384)         1536      \n",
            "_________________________________________________________________\n",
            "conv2d_4 (Conv2D)            (None, 4, 4, 384)         1327488   \n",
            "_________________________________________________________________\n",
            "activation_4 (Activation)    (None, 4, 4, 384)         0         \n",
            "_________________________________________________________________\n",
            "batch_normalization_4 (Batch (None, 4, 4, 384)         1536      \n",
            "_________________________________________________________________\n",
            "conv2d_5 (Conv2D)            (None, 2, 2, 256)         884992    \n",
            "_________________________________________________________________\n",
            "activation_5 (Activation)    (None, 2, 2, 256)         0         \n",
            "_________________________________________________________________\n",
            "max_pooling2d_3 (MaxPooling2 (None, 1, 1, 256)         0         \n",
            "_________________________________________________________________\n",
            "batch_normalization_5 (Batch (None, 1, 1, 256)         1024      \n",
            "_________________________________________________________________\n",
            "flatten_1 (Flatten)          (None, 256)               0         \n",
            "_________________________________________________________________\n",
            "dense_1 (Dense)              (None, 4096)              1052672   \n",
            "_________________________________________________________________\n",
            "activation_6 (Activation)    (None, 4096)              0         \n",
            "_________________________________________________________________\n",
            "dropout_1 (Dropout)          (None, 4096)              0         \n",
            "_________________________________________________________________\n",
            "batch_normalization_6 (Batch (None, 4096)              16384     \n",
            "_________________________________________________________________\n",
            "dense_2 (Dense)              (None, 4096)              16781312  \n",
            "_________________________________________________________________\n",
            "activation_7 (Activation)    (None, 4096)              0         \n",
            "_________________________________________________________________\n",
            "dropout_2 (Dropout)          (None, 4096)              0         \n",
            "_________________________________________________________________\n",
            "batch_normalization_7 (Batch (None, 4096)              16384     \n",
            "_________________________________________________________________\n",
            "dense_3 (Dense)              (None, 1000)              4097000   \n",
            "_________________________________________________________________\n",
            "activation_8 (Activation)    (None, 1000)              0         \n",
            "_________________________________________________________________\n",
            "dropout_3 (Dropout)          (None, 1000)              0         \n",
            "_________________________________________________________________\n",
            "batch_normalization_8 (Batch (None, 1000)              4000      \n",
            "_________________________________________________________________\n",
            "dense_4 (Dense)              (None, 2)                 2002      \n",
            "_________________________________________________________________\n",
            "activation_9 (Activation)    (None, 2)                 0         \n",
            "=================================================================\n",
            "Total params: 28,081,754\n",
            "Trainable params: 28,060,618\n",
            "Non-trainable params: 21,136\n",
            "_________________________________________________________________\n"
          ],
          "name": "stdout"
        }
      ]
    },
    {
      "cell_type": "code",
      "metadata": {
        "id": "1Ep8LiRyVJQN",
        "colab_type": "code",
        "colab": {}
      },
      "source": [
        "!pip install livelossplot neptune-cli tensorboardcolab"
      ],
      "execution_count": 0,
      "outputs": []
    },
    {
      "cell_type": "code",
      "metadata": {
        "id": "21fWkLjvVZUC",
        "colab_type": "code",
        "colab": {}
      },
      "source": [
        "from keras import optimizers\n",
        "adam=keras.optimizers.Adam(lr=0.001, beta_1=0.9, beta_2=0.999, epsilon=None, decay=0.1, amsgrad=False)"
      ],
      "execution_count": 0,
      "outputs": []
    },
    {
      "cell_type": "code",
      "metadata": {
        "id": "wZrQi0rzVeNX",
        "colab_type": "code",
        "colab": {}
      },
      "source": [
        "model.compile(loss='categorical_crossentropy', optimizer=adam,metrics=['accuracy'])"
      ],
      "execution_count": 0,
      "outputs": []
    },
    {
      "cell_type": "code",
      "metadata": {
        "id": "pE8v1S2TVi-7",
        "colab_type": "code",
        "colab": {}
      },
      "source": [
        "from livelossplot.keras import PlotLossesCallback"
      ],
      "execution_count": 0,
      "outputs": []
    },
    {
      "cell_type": "code",
      "metadata": {
        "id": "Za4lda__VmXi",
        "colab_type": "code",
        "colab": {}
      },
      "source": [
        "model.fit(features.reshape(-1,224,224,3), y,\n",
        "              validation_split=0.2,\n",
        "            epochs=50,callbacks=[PlotLossesCallback()],verbose=0,shuffle=True)"
      ],
      "execution_count": 0,
      "outputs": []
    },
    {
      "cell_type": "code",
      "metadata": {
        "id": "i8hofSnQ73yz",
        "colab_type": "code",
        "colab": {
          "base_uri": "https://localhost:8080/",
          "height": 263
        },
        "outputId": "f8312be7-2d48-4cb2-f433-c948a09f4fff"
      },
      "source": [
        "from keras.layers import Input\n",
        "vgg_model = applications.VGG16(weights='imagenet',include_top=True)"
      ],
      "execution_count": 33,
      "outputs": [
        {
          "output_type": "stream",
          "text": [
            "WARNING: Logging before flag parsing goes to stderr.\n",
            "W0804 04:43:09.723771 140568539576192 deprecation_wrapper.py:119] From /usr/local/lib/python3.6/dist-packages/keras/backend/tensorflow_backend.py:74: The name tf.get_default_graph is deprecated. Please use tf.compat.v1.get_default_graph instead.\n",
            "\n",
            "W0804 04:43:09.745043 140568539576192 deprecation_wrapper.py:119] From /usr/local/lib/python3.6/dist-packages/keras/backend/tensorflow_backend.py:517: The name tf.placeholder is deprecated. Please use tf.compat.v1.placeholder instead.\n",
            "\n",
            "W0804 04:43:09.749686 140568539576192 deprecation_wrapper.py:119] From /usr/local/lib/python3.6/dist-packages/keras/backend/tensorflow_backend.py:4138: The name tf.random_uniform is deprecated. Please use tf.random.uniform instead.\n",
            "\n",
            "W0804 04:43:09.779997 140568539576192 deprecation_wrapper.py:119] From /usr/local/lib/python3.6/dist-packages/keras/backend/tensorflow_backend.py:3976: The name tf.nn.max_pool is deprecated. Please use tf.nn.max_pool2d instead.\n",
            "\n",
            "W0804 04:43:11.842154 140568539576192 deprecation_wrapper.py:119] From /usr/local/lib/python3.6/dist-packages/keras/backend/tensorflow_backend.py:174: The name tf.get_default_session is deprecated. Please use tf.compat.v1.get_default_session instead.\n",
            "\n",
            "W0804 04:43:11.843616 140568539576192 deprecation_wrapper.py:119] From /usr/local/lib/python3.6/dist-packages/keras/backend/tensorflow_backend.py:181: The name tf.ConfigProto is deprecated. Please use tf.compat.v1.ConfigProto instead.\n",
            "\n"
          ],
          "name": "stderr"
        }
      ]
    },
    {
      "cell_type": "code",
      "metadata": {
        "id": "aDUlcFMu8InZ",
        "colab_type": "code",
        "colab": {}
      },
      "source": [
        "for layer in vgg_model.layers: layer.trainable=False"
      ],
      "execution_count": 0,
      "outputs": []
    },
    {
      "cell_type": "code",
      "metadata": {
        "id": "9w4mUICw8Jx6",
        "colab_type": "code",
        "colab": {}
      },
      "source": [
        "x = vgg_model.layers[-2].output\n",
        "output_layer = Dense(2, activation='softmax', name='predictions')(x)"
      ],
      "execution_count": 0,
      "outputs": []
    },
    {
      "cell_type": "code",
      "metadata": {
        "id": "haCLkCrc8MUh",
        "colab_type": "code",
        "colab": {}
      },
      "source": [
        "vgg2 = Model(inputs=vgg_model.input, outputs=output_layer)"
      ],
      "execution_count": 0,
      "outputs": []
    },
    {
      "cell_type": "code",
      "metadata": {
        "id": "aoHCSLsx8Pua",
        "colab_type": "code",
        "colab": {
          "base_uri": "https://localhost:8080/",
          "height": 72
        },
        "outputId": "4050558f-761c-4aea-baae-69874768dc59"
      },
      "source": [
        "vgg2.compile(optimizer='Adam',\n",
        "                loss='categorical_crossentropy', metrics=['accuracy'])"
      ],
      "execution_count": 37,
      "outputs": [
        {
          "output_type": "stream",
          "text": [
            "W0804 04:44:08.979117 140568539576192 deprecation_wrapper.py:119] From /usr/local/lib/python3.6/dist-packages/keras/optimizers.py:790: The name tf.train.Optimizer is deprecated. Please use tf.compat.v1.train.Optimizer instead.\n",
            "\n"
          ],
          "name": "stderr"
        }
      ]
    },
    {
      "cell_type": "code",
      "metadata": {
        "id": "VX_8aI9W8Srz",
        "colab_type": "code",
        "colab": {
          "base_uri": "https://localhost:8080/",
          "height": 346
        },
        "outputId": "46c6473c-8296-4d35-94de-d169fee8c16d"
      },
      "source": [
        "vgg2.fit(x=features,y=y,batch_size=250,epochs=10,validation_split=0.3)"
      ],
      "execution_count": 69,
      "outputs": [
        {
          "output_type": "stream",
          "text": [
            "Train on 90 samples, validate on 39 samples\n",
            "Epoch 1/10\n"
          ],
          "name": "stdout"
        },
        {
          "output_type": "error",
          "ename": "KeyboardInterrupt",
          "evalue": "ignored",
          "traceback": [
            "\u001b[0;31m---------------------------------------------------------------------------\u001b[0m",
            "\u001b[0;31mKeyboardInterrupt\u001b[0m                         Traceback (most recent call last)",
            "\u001b[0;32m<ipython-input-69-828d4a8d2cd5>\u001b[0m in \u001b[0;36m<module>\u001b[0;34m()\u001b[0m\n\u001b[0;32m----> 1\u001b[0;31m \u001b[0mvgg2\u001b[0m\u001b[0;34m.\u001b[0m\u001b[0mfit\u001b[0m\u001b[0;34m(\u001b[0m\u001b[0mx\u001b[0m\u001b[0;34m=\u001b[0m\u001b[0mfeatures\u001b[0m\u001b[0;34m,\u001b[0m\u001b[0my\u001b[0m\u001b[0;34m=\u001b[0m\u001b[0my\u001b[0m\u001b[0;34m,\u001b[0m\u001b[0mbatch_size\u001b[0m\u001b[0;34m=\u001b[0m\u001b[0;36m250\u001b[0m\u001b[0;34m,\u001b[0m\u001b[0mepochs\u001b[0m\u001b[0;34m=\u001b[0m\u001b[0;36m10\u001b[0m\u001b[0;34m,\u001b[0m\u001b[0mvalidation_split\u001b[0m\u001b[0;34m=\u001b[0m\u001b[0;36m0.3\u001b[0m\u001b[0;34m)\u001b[0m\u001b[0;34m\u001b[0m\u001b[0;34m\u001b[0m\u001b[0m\n\u001b[0m",
            "\u001b[0;32m/usr/local/lib/python3.6/dist-packages/keras/engine/training.py\u001b[0m in \u001b[0;36mfit\u001b[0;34m(self, x, y, batch_size, epochs, verbose, callbacks, validation_split, validation_data, shuffle, class_weight, sample_weight, initial_epoch, steps_per_epoch, validation_steps, **kwargs)\u001b[0m\n\u001b[1;32m   1037\u001b[0m                                         \u001b[0minitial_epoch\u001b[0m\u001b[0;34m=\u001b[0m\u001b[0minitial_epoch\u001b[0m\u001b[0;34m,\u001b[0m\u001b[0;34m\u001b[0m\u001b[0;34m\u001b[0m\u001b[0m\n\u001b[1;32m   1038\u001b[0m                                         \u001b[0msteps_per_epoch\u001b[0m\u001b[0;34m=\u001b[0m\u001b[0msteps_per_epoch\u001b[0m\u001b[0;34m,\u001b[0m\u001b[0;34m\u001b[0m\u001b[0;34m\u001b[0m\u001b[0m\n\u001b[0;32m-> 1039\u001b[0;31m                                         validation_steps=validation_steps)\n\u001b[0m\u001b[1;32m   1040\u001b[0m \u001b[0;34m\u001b[0m\u001b[0m\n\u001b[1;32m   1041\u001b[0m     def evaluate(self, x=None, y=None,\n",
            "\u001b[0;32m/usr/local/lib/python3.6/dist-packages/keras/engine/training_arrays.py\u001b[0m in \u001b[0;36mfit_loop\u001b[0;34m(model, f, ins, out_labels, batch_size, epochs, verbose, callbacks, val_f, val_ins, shuffle, callback_metrics, initial_epoch, steps_per_epoch, validation_steps)\u001b[0m\n\u001b[1;32m    197\u001b[0m                     \u001b[0mins_batch\u001b[0m\u001b[0;34m[\u001b[0m\u001b[0mi\u001b[0m\u001b[0;34m]\u001b[0m \u001b[0;34m=\u001b[0m \u001b[0mins_batch\u001b[0m\u001b[0;34m[\u001b[0m\u001b[0mi\u001b[0m\u001b[0;34m]\u001b[0m\u001b[0;34m.\u001b[0m\u001b[0mtoarray\u001b[0m\u001b[0;34m(\u001b[0m\u001b[0;34m)\u001b[0m\u001b[0;34m\u001b[0m\u001b[0;34m\u001b[0m\u001b[0m\n\u001b[1;32m    198\u001b[0m \u001b[0;34m\u001b[0m\u001b[0m\n\u001b[0;32m--> 199\u001b[0;31m                 \u001b[0mouts\u001b[0m \u001b[0;34m=\u001b[0m \u001b[0mf\u001b[0m\u001b[0;34m(\u001b[0m\u001b[0mins_batch\u001b[0m\u001b[0;34m)\u001b[0m\u001b[0;34m\u001b[0m\u001b[0;34m\u001b[0m\u001b[0m\n\u001b[0m\u001b[1;32m    200\u001b[0m                 \u001b[0mouts\u001b[0m \u001b[0;34m=\u001b[0m \u001b[0mto_list\u001b[0m\u001b[0;34m(\u001b[0m\u001b[0mouts\u001b[0m\u001b[0;34m)\u001b[0m\u001b[0;34m\u001b[0m\u001b[0;34m\u001b[0m\u001b[0m\n\u001b[1;32m    201\u001b[0m                 \u001b[0;32mfor\u001b[0m \u001b[0ml\u001b[0m\u001b[0;34m,\u001b[0m \u001b[0mo\u001b[0m \u001b[0;32min\u001b[0m \u001b[0mzip\u001b[0m\u001b[0;34m(\u001b[0m\u001b[0mout_labels\u001b[0m\u001b[0;34m,\u001b[0m \u001b[0mouts\u001b[0m\u001b[0;34m)\u001b[0m\u001b[0;34m:\u001b[0m\u001b[0;34m\u001b[0m\u001b[0;34m\u001b[0m\u001b[0m\n",
            "\u001b[0;32m/usr/local/lib/python3.6/dist-packages/keras/backend/tensorflow_backend.py\u001b[0m in \u001b[0;36m__call__\u001b[0;34m(self, inputs)\u001b[0m\n\u001b[1;32m   2713\u001b[0m                 \u001b[0;32mreturn\u001b[0m \u001b[0mself\u001b[0m\u001b[0;34m.\u001b[0m\u001b[0m_legacy_call\u001b[0m\u001b[0;34m(\u001b[0m\u001b[0minputs\u001b[0m\u001b[0;34m)\u001b[0m\u001b[0;34m\u001b[0m\u001b[0;34m\u001b[0m\u001b[0m\n\u001b[1;32m   2714\u001b[0m \u001b[0;34m\u001b[0m\u001b[0m\n\u001b[0;32m-> 2715\u001b[0;31m             \u001b[0;32mreturn\u001b[0m \u001b[0mself\u001b[0m\u001b[0;34m.\u001b[0m\u001b[0m_call\u001b[0m\u001b[0;34m(\u001b[0m\u001b[0minputs\u001b[0m\u001b[0;34m)\u001b[0m\u001b[0;34m\u001b[0m\u001b[0;34m\u001b[0m\u001b[0m\n\u001b[0m\u001b[1;32m   2716\u001b[0m         \u001b[0;32melse\u001b[0m\u001b[0;34m:\u001b[0m\u001b[0;34m\u001b[0m\u001b[0;34m\u001b[0m\u001b[0m\n\u001b[1;32m   2717\u001b[0m             \u001b[0;32mif\u001b[0m \u001b[0mpy_any\u001b[0m\u001b[0;34m(\u001b[0m\u001b[0mis_tensor\u001b[0m\u001b[0;34m(\u001b[0m\u001b[0mx\u001b[0m\u001b[0;34m)\u001b[0m \u001b[0;32mfor\u001b[0m \u001b[0mx\u001b[0m \u001b[0;32min\u001b[0m \u001b[0minputs\u001b[0m\u001b[0;34m)\u001b[0m\u001b[0;34m:\u001b[0m\u001b[0;34m\u001b[0m\u001b[0;34m\u001b[0m\u001b[0m\n",
            "\u001b[0;32m/usr/local/lib/python3.6/dist-packages/keras/backend/tensorflow_backend.py\u001b[0m in \u001b[0;36m_call\u001b[0;34m(self, inputs)\u001b[0m\n\u001b[1;32m   2673\u001b[0m             \u001b[0mfetched\u001b[0m \u001b[0;34m=\u001b[0m \u001b[0mself\u001b[0m\u001b[0;34m.\u001b[0m\u001b[0m_callable_fn\u001b[0m\u001b[0;34m(\u001b[0m\u001b[0;34m*\u001b[0m\u001b[0marray_vals\u001b[0m\u001b[0;34m,\u001b[0m \u001b[0mrun_metadata\u001b[0m\u001b[0;34m=\u001b[0m\u001b[0mself\u001b[0m\u001b[0;34m.\u001b[0m\u001b[0mrun_metadata\u001b[0m\u001b[0;34m)\u001b[0m\u001b[0;34m\u001b[0m\u001b[0;34m\u001b[0m\u001b[0m\n\u001b[1;32m   2674\u001b[0m         \u001b[0;32melse\u001b[0m\u001b[0;34m:\u001b[0m\u001b[0;34m\u001b[0m\u001b[0;34m\u001b[0m\u001b[0m\n\u001b[0;32m-> 2675\u001b[0;31m             \u001b[0mfetched\u001b[0m \u001b[0;34m=\u001b[0m \u001b[0mself\u001b[0m\u001b[0;34m.\u001b[0m\u001b[0m_callable_fn\u001b[0m\u001b[0;34m(\u001b[0m\u001b[0;34m*\u001b[0m\u001b[0marray_vals\u001b[0m\u001b[0;34m)\u001b[0m\u001b[0;34m\u001b[0m\u001b[0;34m\u001b[0m\u001b[0m\n\u001b[0m\u001b[1;32m   2676\u001b[0m         \u001b[0;32mreturn\u001b[0m \u001b[0mfetched\u001b[0m\u001b[0;34m[\u001b[0m\u001b[0;34m:\u001b[0m\u001b[0mlen\u001b[0m\u001b[0;34m(\u001b[0m\u001b[0mself\u001b[0m\u001b[0;34m.\u001b[0m\u001b[0moutputs\u001b[0m\u001b[0;34m)\u001b[0m\u001b[0;34m]\u001b[0m\u001b[0;34m\u001b[0m\u001b[0;34m\u001b[0m\u001b[0m\n\u001b[1;32m   2677\u001b[0m \u001b[0;34m\u001b[0m\u001b[0m\n",
            "\u001b[0;32m/usr/local/lib/python3.6/dist-packages/tensorflow/python/client/session.py\u001b[0m in \u001b[0;36m__call__\u001b[0;34m(self, *args, **kwargs)\u001b[0m\n\u001b[1;32m   1456\u001b[0m         ret = tf_session.TF_SessionRunCallable(self._session._session,\n\u001b[1;32m   1457\u001b[0m                                                \u001b[0mself\u001b[0m\u001b[0;34m.\u001b[0m\u001b[0m_handle\u001b[0m\u001b[0;34m,\u001b[0m \u001b[0margs\u001b[0m\u001b[0;34m,\u001b[0m\u001b[0;34m\u001b[0m\u001b[0;34m\u001b[0m\u001b[0m\n\u001b[0;32m-> 1458\u001b[0;31m                                                run_metadata_ptr)\n\u001b[0m\u001b[1;32m   1459\u001b[0m         \u001b[0;32mif\u001b[0m \u001b[0mrun_metadata\u001b[0m\u001b[0;34m:\u001b[0m\u001b[0;34m\u001b[0m\u001b[0;34m\u001b[0m\u001b[0m\n\u001b[1;32m   1460\u001b[0m           \u001b[0mproto_data\u001b[0m \u001b[0;34m=\u001b[0m \u001b[0mtf_session\u001b[0m\u001b[0;34m.\u001b[0m\u001b[0mTF_GetBuffer\u001b[0m\u001b[0;34m(\u001b[0m\u001b[0mrun_metadata_ptr\u001b[0m\u001b[0;34m)\u001b[0m\u001b[0;34m\u001b[0m\u001b[0;34m\u001b[0m\u001b[0m\n",
            "\u001b[0;31mKeyboardInterrupt\u001b[0m: "
          ]
        }
      ]
    },
    {
      "cell_type": "code",
      "metadata": {
        "id": "fdZxDN67_AXi",
        "colab_type": "code",
        "colab": {}
      },
      "source": [
        "vgg_model.summary()"
      ],
      "execution_count": 0,
      "outputs": []
    },
    {
      "cell_type": "code",
      "metadata": {
        "id": "obTaDngaZf1p",
        "colab_type": "code",
        "colab": {}
      },
      "source": [
        "test_image=cv2.imread('/content/gdrive/My Drive/Data Science/sample_XR_ELBOW/patient00011/study1_negative/image2.png')"
      ],
      "execution_count": 0,
      "outputs": []
    },
    {
      "cell_type": "code",
      "metadata": {
        "id": "nSGJG_oHa8hN",
        "colab_type": "code",
        "colab": {}
      },
      "source": [
        "test_image"
      ],
      "execution_count": 0,
      "outputs": []
    },
    {
      "cell_type": "code",
      "metadata": {
        "id": "-qmTLPRTZlFk",
        "colab_type": "code",
        "colab": {}
      },
      "source": [
        "test_image=cv2.resize(test_image, (224,224))"
      ],
      "execution_count": 0,
      "outputs": []
    },
    {
      "cell_type": "code",
      "metadata": {
        "id": "vNo7aLvmAa34",
        "colab_type": "code",
        "colab": {}
      },
      "source": [
        "from keras.preprocessing.image import img_to_array\n",
        "# convert the image pixels to a numpy array\n",
        "image = img_to_array(test_image)"
      ],
      "execution_count": 0,
      "outputs": []
    },
    {
      "cell_type": "code",
      "metadata": {
        "id": "7mlKEctnAJDd",
        "colab_type": "code",
        "colab": {}
      },
      "source": [
        "from keras.applications.vgg16 import preprocess_input\n",
        "# prepare the image for the VGG model\n",
        "image = preprocess_input(image)"
      ],
      "execution_count": 0,
      "outputs": []
    },
    {
      "cell_type": "code",
      "metadata": {
        "id": "fnRb0s2f_77O",
        "colab_type": "code",
        "colab": {}
      },
      "source": [
        "preds = vgg2.predict(image.reshape(-1,224,224,3))"
      ],
      "execution_count": 0,
      "outputs": []
    },
    {
      "cell_type": "code",
      "metadata": {
        "id": "BEOoDjXwCPvs",
        "colab_type": "code",
        "colab": {}
      },
      "source": [
        "from keras.applications.vgg16 import preprocess_input, decode_predictions"
      ],
      "execution_count": 0,
      "outputs": []
    },
    {
      "cell_type": "code",
      "metadata": {
        "id": "EARiI4hGCKRd",
        "colab_type": "code",
        "colab": {}
      },
      "source": [
        "print('Predicted:', decode_predictions(preds, top=3)[0])"
      ],
      "execution_count": 0,
      "outputs": []
    },
    {
      "cell_type": "code",
      "metadata": {
        "id": "cUtrBkIUbI3v",
        "colab_type": "code",
        "outputId": "e71dc87e-2ee0-42d9-bf4a-cf59af74d3fe",
        "colab": {
          "base_uri": "https://localhost:8080/",
          "height": 35
        }
      },
      "source": [
        "preds = vgg2.predict(test_image.reshape(-1,224,224,3))\n",
        "preds"
      ],
      "execution_count": 79,
      "outputs": [
        {
          "output_type": "execute_result",
          "data": {
            "text/plain": [
              "array([[0.62271714, 0.37728283]], dtype=float32)"
            ]
          },
          "metadata": {
            "tags": []
          },
          "execution_count": 79
        }
      ]
    },
    {
      "cell_type": "code",
      "metadata": {
        "id": "37SuhRB7GBeW",
        "colab_type": "code",
        "colab": {
          "base_uri": "https://localhost:8080/",
          "height": 311
        },
        "outputId": "822d4217-5be2-4c97-c3c8-7d76a7b44f61"
      },
      "source": [
        "label = decode_predictions(preds)"
      ],
      "execution_count": 74,
      "outputs": [
        {
          "output_type": "error",
          "ename": "ValueError",
          "evalue": "ignored",
          "traceback": [
            "\u001b[0;31m---------------------------------------------------------------------------\u001b[0m",
            "\u001b[0;31mValueError\u001b[0m                                Traceback (most recent call last)",
            "\u001b[0;32m<ipython-input-74-b8d317532b31>\u001b[0m in \u001b[0;36m<module>\u001b[0;34m()\u001b[0m\n\u001b[0;32m----> 1\u001b[0;31m \u001b[0mlabel\u001b[0m \u001b[0;34m=\u001b[0m \u001b[0mdecode_predictions\u001b[0m\u001b[0;34m(\u001b[0m\u001b[0mpreds\u001b[0m\u001b[0;34m)\u001b[0m\u001b[0;34m\u001b[0m\u001b[0;34m\u001b[0m\u001b[0m\n\u001b[0m",
            "\u001b[0;32m/usr/local/lib/python3.6/dist-packages/keras/applications/__init__.py\u001b[0m in \u001b[0;36mwrapper\u001b[0;34m(*args, **kwargs)\u001b[0m\n\u001b[1;32m     26\u001b[0m             \u001b[0mkwargs\u001b[0m\u001b[0;34m[\u001b[0m\u001b[0;34m'models'\u001b[0m\u001b[0;34m]\u001b[0m \u001b[0;34m=\u001b[0m \u001b[0mmodels\u001b[0m\u001b[0;34m\u001b[0m\u001b[0;34m\u001b[0m\u001b[0m\n\u001b[1;32m     27\u001b[0m             \u001b[0mkwargs\u001b[0m\u001b[0;34m[\u001b[0m\u001b[0;34m'utils'\u001b[0m\u001b[0;34m]\u001b[0m \u001b[0;34m=\u001b[0m \u001b[0mutils\u001b[0m\u001b[0;34m\u001b[0m\u001b[0;34m\u001b[0m\u001b[0m\n\u001b[0;32m---> 28\u001b[0;31m         \u001b[0;32mreturn\u001b[0m \u001b[0mbase_fun\u001b[0m\u001b[0;34m(\u001b[0m\u001b[0;34m*\u001b[0m\u001b[0margs\u001b[0m\u001b[0;34m,\u001b[0m \u001b[0;34m**\u001b[0m\u001b[0mkwargs\u001b[0m\u001b[0;34m)\u001b[0m\u001b[0;34m\u001b[0m\u001b[0;34m\u001b[0m\u001b[0m\n\u001b[0m\u001b[1;32m     29\u001b[0m \u001b[0;34m\u001b[0m\u001b[0m\n\u001b[1;32m     30\u001b[0m     \u001b[0;32mreturn\u001b[0m \u001b[0mwrapper\u001b[0m\u001b[0;34m\u001b[0m\u001b[0;34m\u001b[0m\u001b[0m\n",
            "\u001b[0;32m/usr/local/lib/python3.6/dist-packages/keras/applications/vgg16.py\u001b[0m in \u001b[0;36mdecode_predictions\u001b[0;34m(*args, **kwargs)\u001b[0m\n\u001b[1;32m     14\u001b[0m \u001b[0;34m@\u001b[0m\u001b[0mkeras_modules_injection\u001b[0m\u001b[0;34m\u001b[0m\u001b[0;34m\u001b[0m\u001b[0m\n\u001b[1;32m     15\u001b[0m \u001b[0;32mdef\u001b[0m \u001b[0mdecode_predictions\u001b[0m\u001b[0;34m(\u001b[0m\u001b[0;34m*\u001b[0m\u001b[0margs\u001b[0m\u001b[0;34m,\u001b[0m \u001b[0;34m**\u001b[0m\u001b[0mkwargs\u001b[0m\u001b[0;34m)\u001b[0m\u001b[0;34m:\u001b[0m\u001b[0;34m\u001b[0m\u001b[0;34m\u001b[0m\u001b[0m\n\u001b[0;32m---> 16\u001b[0;31m     \u001b[0;32mreturn\u001b[0m \u001b[0mvgg16\u001b[0m\u001b[0;34m.\u001b[0m\u001b[0mdecode_predictions\u001b[0m\u001b[0;34m(\u001b[0m\u001b[0;34m*\u001b[0m\u001b[0margs\u001b[0m\u001b[0;34m,\u001b[0m \u001b[0;34m**\u001b[0m\u001b[0mkwargs\u001b[0m\u001b[0;34m)\u001b[0m\u001b[0;34m\u001b[0m\u001b[0;34m\u001b[0m\u001b[0m\n\u001b[0m\u001b[1;32m     17\u001b[0m \u001b[0;34m\u001b[0m\u001b[0m\n\u001b[1;32m     18\u001b[0m \u001b[0;34m\u001b[0m\u001b[0m\n",
            "\u001b[0;32m/usr/local/lib/python3.6/dist-packages/keras_applications/imagenet_utils.py\u001b[0m in \u001b[0;36mdecode_predictions\u001b[0;34m(preds, top, **kwargs)\u001b[0m\n\u001b[1;32m    220\u001b[0m                          \u001b[0;34m'a batch of predictions '\u001b[0m\u001b[0;34m\u001b[0m\u001b[0;34m\u001b[0m\u001b[0m\n\u001b[1;32m    221\u001b[0m                          \u001b[0;34m'(i.e. a 2D array of shape (samples, 1000)). '\u001b[0m\u001b[0;34m\u001b[0m\u001b[0;34m\u001b[0m\u001b[0m\n\u001b[0;32m--> 222\u001b[0;31m                          'Found array with shape: ' + str(preds.shape))\n\u001b[0m\u001b[1;32m    223\u001b[0m     \u001b[0;32mif\u001b[0m \u001b[0mCLASS_INDEX\u001b[0m \u001b[0;32mis\u001b[0m \u001b[0;32mNone\u001b[0m\u001b[0;34m:\u001b[0m\u001b[0;34m\u001b[0m\u001b[0;34m\u001b[0m\u001b[0m\n\u001b[1;32m    224\u001b[0m         fpath = keras_utils.get_file(\n",
            "\u001b[0;31mValueError\u001b[0m: `decode_predictions` expects a batch of predictions (i.e. a 2D array of shape (samples, 1000)). Found array with shape: (1, 2)"
          ]
        }
      ]
    },
    {
      "cell_type": "code",
      "metadata": {
        "id": "wmWk9_zDBXkg",
        "colab_type": "code",
        "colab": {}
      },
      "source": [
        "vgg_model.predict(test_image.reshape(-1,224,224,3))"
      ],
      "execution_count": 0,
      "outputs": []
    },
    {
      "cell_type": "code",
      "metadata": {
        "id": "tyuMmUTfZye0",
        "colab_type": "code",
        "colab": {}
      },
      "source": [
        "images[n] = cv2.imread( join(pathgt,onlyfiles[n]) )\n",
        "images[n]=cv2.resize(images[n], (224,224)) "
      ],
      "execution_count": 0,
      "outputs": []
    },
    {
      "cell_type": "code",
      "metadata": {
        "id": "L79pmLFzHcEQ",
        "colab_type": "code",
        "colab": {
          "base_uri": "https://localhost:8080/",
          "height": 35
        },
        "outputId": "edd1a2a5-cb98-489f-a906-5d196d078136"
      },
      "source": [
        "#Sample for reading an image\n",
        "from os import listdir\n",
        "from os.path import isfile, join\n",
        "import numpy\n",
        "import cv2\n",
        "\n",
        "path_image = \"/content/gdrive/My Drive/Data Science/sample_XR_ELBOW/patient00011/study1_negative\"\n",
        "onlyfiles = [ f for f in listdir(path_image) if isfile(join(path_image,f)) ]\n",
        "images = numpy.empty(len(onlyfiles), dtype=object) #Checking if its empty\n",
        "print(images)\n",
        "for n in range(0, len(onlyfiles)):\n",
        "  images[n] = cv2.imread( join(path_image,onlyfiles[n]) )"
      ],
      "execution_count": 23,
      "outputs": [
        {
          "output_type": "stream",
          "text": [
            "[None None None]\n"
          ],
          "name": "stdout"
        }
      ]
    },
    {
      "cell_type": "code",
      "metadata": {
        "id": "jq_NiwruJy3r",
        "colab_type": "code",
        "colab": {}
      },
      "source": [
        "#Snippet for showing an image from array format\n",
        "#img = image.load_img(images[0])\n",
        "from PIL import Image\n",
        "img = Image.fromarray(images[0])\n",
        "img"
      ],
      "execution_count": 0,
      "outputs": []
    },
    {
      "cell_type": "code",
      "metadata": {
        "id": "9Fj_Xvo1Lrre",
        "colab_type": "code",
        "colab": {}
      },
      "source": [
        "XR_ELBOW_patients_neg[0]"
      ],
      "execution_count": 0,
      "outputs": []
    },
    {
      "cell_type": "code",
      "metadata": {
        "id": "Q2HkoABmOez7",
        "colab_type": "code",
        "colab": {}
      },
      "source": [
        "img = Image.fromarray(XR_ELBOW_patients_neg[0])\n",
        "img"
      ],
      "execution_count": 0,
      "outputs": []
    },
    {
      "cell_type": "code",
      "metadata": {
        "id": "ah0Z-ni3fo09",
        "colab_type": "code",
        "colab": {}
      },
      "source": [
        "img_path = (path_image+'/'+'patient00665'+'/'+'study1_negative'+'/'+'image1.png')\n",
        "img = image.load_img(img_path)\n",
        "img1 = image.img_to_array(img)\n",
        "img"
      ],
      "execution_count": 0,
      "outputs": []
    },
    {
      "cell_type": "code",
      "metadata": {
        "id": "yBwD1NKCIkuh",
        "colab_type": "code",
        "colab": {}
      },
      "source": [
        "onlyfiles"
      ],
      "execution_count": 0,
      "outputs": []
    },
    {
      "cell_type": "code",
      "metadata": {
        "id": "yH4EBT34aIBi",
        "colab_type": "code",
        "colab": {}
      },
      "source": [
        "from google.colab.patches import cv2_imshow"
      ],
      "execution_count": 0,
      "outputs": []
    },
    {
      "cell_type": "code",
      "metadata": {
        "id": "O7cqitGGSzM2",
        "colab_type": "code",
        "colab": {}
      },
      "source": [
        "for i in range(len(name_list))"
      ],
      "execution_count": 0,
      "outputs": []
    },
    {
      "cell_type": "code",
      "metadata": {
        "id": "o9eR91yNf8Ma",
        "colab_type": "code",
        "colab": {}
      },
      "source": [
        "img1"
      ],
      "execution_count": 0,
      "outputs": []
    },
    {
      "cell_type": "code",
      "metadata": {
        "id": "FU4d7pIHaY7y",
        "colab_type": "code",
        "colab": {}
      },
      "source": [
        "# importing PIL \n",
        "from PIL import Image \n",
        "  \n",
        "# Read image \n",
        "img = Image.open(path_image+'/'+'patient00665'+'/'+'study1_negative'+'/'+'image1.png') \n",
        "  \n",
        "# Output Images \n",
        "img.show() \n",
        "  \n",
        "# prints format of image \n",
        "#print(img.format) \n",
        "  \n",
        "# prints mode of image \n",
        "#print(img.mode) "
      ],
      "execution_count": 0,
      "outputs": []
    },
    {
      "cell_type": "code",
      "metadata": {
        "id": "WTHpYDLGWTYT",
        "colab_type": "code",
        "colab": {}
      },
      "source": [
        "images=cv.imread(path_image+'/'+'patient00665'+'/'+'study1_negative')\n",
        "cv2_imshow('image', images)  \n",
        "#images=cv.resize(images, (224,224)) \n",
        "import cv2 \n",
        "  \n",
        "# Save image in set directory \n",
        "# Read RGB image \n",
        "img = cv2.imread('g4g.png')  \n",
        "  \n",
        "# Output img with window name as 'image' \n",
        "cv2.imshow('image', img)  "
      ],
      "execution_count": 0,
      "outputs": []
    },
    {
      "cell_type": "code",
      "metadata": {
        "id": "G_kI_z4ZXlNw",
        "colab_type": "code",
        "colab": {}
      },
      "source": [
        "path_image = \"/content/gdrive/My Drive/Data Science/sample_XR_ELBOW\"\n",
        "name_list=os.listdir(path_image)\n",
        "list_folders=[]\n",
        "for i in range(len(name_list)):\n",
        "  gt=os.listdir(path_image+'/'+name_list[i])\n",
        "  list_folders.append(gt)"
      ],
      "execution_count": 0,
      "outputs": []
    },
    {
      "cell_type": "code",
      "metadata": {
        "id": "cmR7sQbuBlRc",
        "colab_type": "code",
        "colab": {}
      },
      "source": [
        "XR_ELBOW_patients_pos"
      ],
      "execution_count": 0,
      "outputs": []
    },
    {
      "cell_type": "code",
      "metadata": {
        "id": "oMg6yRkGZPpY",
        "colab_type": "code",
        "colab": {}
      },
      "source": [
        "XR_ELBOW_patients_neg"
      ],
      "execution_count": 0,
      "outputs": []
    },
    {
      "cell_type": "code",
      "metadata": {
        "id": "9ZFzqlzgBlRg",
        "colab_type": "code",
        "colab": {}
      },
      "source": [
        "neg_elbow_imgs = []\n",
        "pos_elbow_imgs = []\n",
        "j = 0\n",
        "for i in range(len(elbow_list)):\n",
        "    gt = os.listdir(XR_ELBOW_path+'/'+elbow_list[i])\n",
        "    #print(gt)\n",
        "    #print(t[0][7:])\n",
        "    if(gt[0][7:]==\"negative\"):\n",
        "        for j in range(len(XR_ELBOW_patients_neg)):\n",
        "            gt1 = os.listdir(XR_ELBOW_path+'/'+elbow_list[i]+'/'+str(XR_ELBOW_patients_neg[j][0]))\n",
        "            neg_elbow_imgs.append(gt1)\n",
        "            #print(gt1)\n",
        "    else:\n",
        "         for j in range(len(XR_ELBOW_patients_pos)):\n",
        "            gt1 = os.listdir(XR_ELBOW_path+'/'+elbow_list[i]+'/'+str(XR_ELBOW_patients_pos[j][0]))\n",
        "            pos_elbow_imgs.append(gt1)\n",
        "            #print(gt1)\n",
        "        \n",
        "            \n",
        "        #   \n",
        "        #print(gt)\n",
        "        #gt1 = os.listdir(XR_ELBOW_path+'/'+elbow_list[0]+'/'+str(XR_ELBOW_patients_pos[i][0]))\n",
        "        #pos_elbow_imgs.append(gt1)\n",
        "    #else:\n",
        "        #gt = os.listdir(XR_ELBOW_path+'/'+elbow_list[0]+'/'+str(XR_ELBOW_patients_pos[i][0]))\n",
        "        #pos_elbow_imgs.append(gt)"
      ],
      "execution_count": 0,
      "outputs": []
    },
    {
      "cell_type": "code",
      "metadata": {
        "id": "qONm4kGWBlRi",
        "colab_type": "code",
        "outputId": "830307e3-5ff5-45d1-9850-698c56b41c40",
        "colab": {}
      },
      "source": [
        "neg_elbow_imgs"
      ],
      "execution_count": 0,
      "outputs": [
        {
          "output_type": "execute_result",
          "data": {
            "text/plain": [
              "[['image1.png', 'image2.png', 'image3.png'],\n",
              " ['image1.png', 'image2.png', 'image3.png'],\n",
              " ['image1.png', 'image2.png', 'image3.png'],\n",
              " ['image1.png', 'image2.png', 'image3.png'],\n",
              " ['image1.png', 'image2.png', 'image3.png'],\n",
              " ['image1.png', 'image2.png', 'image3.png'],\n",
              " ['image1.png', 'image2.png', 'image3.png'],\n",
              " ['image1.png', 'image2.png', 'image3.png'],\n",
              " ['image1.png', 'image2.png', 'image3.png'],\n",
              " ['image1.png', 'image2.png', 'image3.png'],\n",
              " ['image1.png', 'image2.png', 'image3.png'],\n",
              " ['image1.png', 'image2.png', 'image3.png'],\n",
              " ['image1.png', 'image2.png', 'image3.png'],\n",
              " ['image1.png', 'image2.png', 'image3.png'],\n",
              " ['image1.png', 'image2.png', 'image3.png'],\n",
              " ['image1.png', 'image2.png', 'image3.png'],\n",
              " ['image1.png', 'image2.png', 'image3.png'],\n",
              " ['image1.png', 'image2.png', 'image3.png'],\n",
              " ['image1.png', 'image2.png', 'image3.png'],\n",
              " ['image1.png', 'image2.png', 'image3.png'],\n",
              " ['image1.png', 'image2.png', 'image3.png'],\n",
              " ['image1.png', 'image2.png', 'image3.png'],\n",
              " ['image1.png', 'image2.png', 'image3.png'],\n",
              " ['image1.png', 'image2.png', 'image3.png'],\n",
              " ['image1.png', 'image2.png', 'image3.png'],\n",
              " ['image1.png', 'image2.png', 'image3.png'],\n",
              " ['image1.png', 'image2.png', 'image3.png'],\n",
              " ['image1.png', 'image2.png', 'image3.png'],\n",
              " ['image1.png', 'image2.png', 'image3.png'],\n",
              " ['image1.png', 'image2.png', 'image3.png'],\n",
              " ['image1.png', 'image2.png', 'image3.png'],\n",
              " ['image1.png', 'image2.png', 'image3.png'],\n",
              " ['image1.png', 'image2.png', 'image3.png'],\n",
              " ['image1.png', 'image2.png', 'image3.png'],\n",
              " ['image1.png', 'image2.png', 'image3.png'],\n",
              " ['image1.png', 'image2.png', 'image3.png'],\n",
              " ['image1.png', 'image2.png', 'image3.png'],\n",
              " ['image1.png', 'image2.png', 'image3.png'],\n",
              " ['image1.png', 'image2.png', 'image3.png'],\n",
              " ['image1.png', 'image2.png', 'image3.png'],\n",
              " ['image1.png', 'image2.png', 'image3.png'],\n",
              " ['image1.png', 'image2.png', 'image3.png'],\n",
              " ['image1.png', 'image2.png', 'image3.png'],\n",
              " ['image1.png', 'image2.png', 'image3.png'],\n",
              " ['image1.png', 'image2.png', 'image3.png'],\n",
              " ['image1.png', 'image2.png', 'image3.png'],\n",
              " ['image1.png', 'image2.png'],\n",
              " ['image1.png', 'image2.png'],\n",
              " ['image1.png', 'image2.png'],\n",
              " ['image1.png', 'image2.png'],\n",
              " ['image1.png', 'image2.png'],\n",
              " ['image1.png', 'image2.png'],\n",
              " ['image1.png', 'image2.png'],\n",
              " ['image1.png', 'image2.png'],\n",
              " ['image1.png', 'image2.png'],\n",
              " ['image1.png', 'image2.png'],\n",
              " ['image1.png', 'image2.png'],\n",
              " ['image1.png', 'image2.png'],\n",
              " ['image1.png', 'image2.png'],\n",
              " ['image1.png', 'image2.png'],\n",
              " ['image1.png', 'image2.png'],\n",
              " ['image1.png', 'image2.png'],\n",
              " ['image1.png', 'image2.png'],\n",
              " ['image1.png', 'image2.png'],\n",
              " ['image1.png', 'image2.png'],\n",
              " ['image1.png', 'image2.png'],\n",
              " ['image1.png', 'image2.png'],\n",
              " ['image1.png', 'image2.png'],\n",
              " ['image1.png', 'image2.png'],\n",
              " ['image1.png', 'image2.png', 'image3.png'],\n",
              " ['image1.png', 'image2.png', 'image3.png'],\n",
              " ['image1.png', 'image2.png', 'image3.png'],\n",
              " ['image1.png', 'image2.png', 'image3.png'],\n",
              " ['image1.png', 'image2.png', 'image3.png'],\n",
              " ['image1.png', 'image2.png', 'image3.png'],\n",
              " ['image1.png', 'image2.png', 'image3.png'],\n",
              " ['image1.png', 'image2.png', 'image3.png'],\n",
              " ['image1.png', 'image2.png', 'image3.png'],\n",
              " ['image1.png', 'image2.png', 'image3.png'],\n",
              " ['image1.png', 'image2.png', 'image3.png'],\n",
              " ['image1.png', 'image2.png', 'image3.png'],\n",
              " ['image1.png', 'image2.png', 'image3.png'],\n",
              " ['image1.png', 'image2.png', 'image3.png'],\n",
              " ['image1.png', 'image2.png', 'image3.png'],\n",
              " ['image1.png', 'image2.png', 'image3.png'],\n",
              " ['image1.png', 'image2.png', 'image3.png'],\n",
              " ['image1.png', 'image2.png', 'image3.png'],\n",
              " ['image1.png', 'image2.png', 'image3.png'],\n",
              " ['image1.png', 'image2.png', 'image3.png'],\n",
              " ['image1.png', 'image2.png', 'image3.png'],\n",
              " ['image1.png', 'image2.png', 'image3.png'],\n",
              " ['image1.png', 'image2.png', 'image3.png'],\n",
              " ['image1.png', 'image2.png', 'image3.png'],\n",
              " ['image1.png', 'image2.png', 'image3.png'],\n",
              " ['image1.png', 'image2.png', 'image3.png'],\n",
              " ['image1.png', 'image2.png', 'image3.png'],\n",
              " ['image1.png', 'image2.png', 'image3.png'],\n",
              " ['image1.png', 'image2.png', 'image3.png'],\n",
              " ['image1.png', 'image2.png', 'image3.png'],\n",
              " ['image1.png', 'image2.png', 'image3.png'],\n",
              " ['image1.png', 'image2.png', 'image3.png'],\n",
              " ['image1.png', 'image2.png', 'image3.png'],\n",
              " ['image1.png', 'image2.png', 'image3.png'],\n",
              " ['image1.png', 'image2.png', 'image3.png'],\n",
              " ['image1.png', 'image2.png', 'image3.png'],\n",
              " ['image1.png', 'image2.png', 'image3.png'],\n",
              " ['image1.png', 'image2.png', 'image3.png'],\n",
              " ['image1.png', 'image2.png', 'image3.png'],\n",
              " ['image1.png', 'image2.png', 'image3.png'],\n",
              " ['image1.png', 'image2.png', 'image3.png'],\n",
              " ['image1.png', 'image2.png', 'image3.png'],\n",
              " ['image1.png', 'image2.png', 'image3.png'],\n",
              " ['image1.png', 'image2.png', 'image3.png'],\n",
              " ['image1.png', 'image2.png', 'image3.png'],\n",
              " ['image1.png', 'image2.png', 'image3.png'],\n",
              " ['image1.png', 'image2.png'],\n",
              " ['image1.png', 'image2.png'],\n",
              " ['image1.png', 'image2.png'],\n",
              " ['image1.png', 'image2.png'],\n",
              " ['image1.png', 'image2.png'],\n",
              " ['image1.png', 'image2.png'],\n",
              " ['image1.png', 'image2.png'],\n",
              " ['image1.png', 'image2.png'],\n",
              " ['image1.png', 'image2.png'],\n",
              " ['image1.png', 'image2.png'],\n",
              " ['image1.png', 'image2.png'],\n",
              " ['image1.png', 'image2.png'],\n",
              " ['image1.png', 'image2.png'],\n",
              " ['image1.png', 'image2.png'],\n",
              " ['image1.png', 'image2.png'],\n",
              " ['image1.png', 'image2.png'],\n",
              " ['image1.png', 'image2.png'],\n",
              " ['image1.png', 'image2.png'],\n",
              " ['image1.png', 'image2.png'],\n",
              " ['image1.png', 'image2.png'],\n",
              " ['image1.png', 'image2.png'],\n",
              " ['image1.png', 'image2.png'],\n",
              " ['image1.png', 'image2.png'],\n",
              " ['image1.png', 'image2.png'],\n",
              " ['image1.png', 'image2.png'],\n",
              " ['image1.png', 'image2.png'],\n",
              " ['image1.png', 'image2.png'],\n",
              " ['image1.png', 'image2.png'],\n",
              " ['image1.png', 'image2.png'],\n",
              " ['image1.png', 'image2.png'],\n",
              " ['image1.png', 'image2.png'],\n",
              " ['image1.png', 'image2.png'],\n",
              " ['image1.png', 'image2.png'],\n",
              " ['image1.png', 'image2.png'],\n",
              " ['image1.png', 'image2.png'],\n",
              " ['image1.png', 'image2.png'],\n",
              " ['image1.png', 'image2.png'],\n",
              " ['image1.png', 'image2.png'],\n",
              " ['image1.png', 'image2.png'],\n",
              " ['image1.png', 'image2.png'],\n",
              " ['image1.png', 'image2.png'],\n",
              " ['image1.png', 'image2.png'],\n",
              " ['image1.png', 'image2.png'],\n",
              " ['image1.png', 'image2.png'],\n",
              " ['image1.png', 'image2.png'],\n",
              " ['image1.png', 'image2.png'],\n",
              " ['image1.png', 'image2.png'],\n",
              " ['image1.png', 'image2.png'],\n",
              " ['image1.png', 'image2.png'],\n",
              " ['image1.png', 'image2.png'],\n",
              " ['image1.png', 'image2.png'],\n",
              " ['image1.png', 'image2.png'],\n",
              " ['image1.png', 'image2.png'],\n",
              " ['image1.png', 'image2.png'],\n",
              " ['image1.png', 'image2.png'],\n",
              " ['image1.png', 'image2.png'],\n",
              " ['image1.png', 'image2.png'],\n",
              " ['image1.png', 'image2.png'],\n",
              " ['image1.png', 'image2.png'],\n",
              " ['image1.png', 'image2.png'],\n",
              " ['image1.png', 'image2.png'],\n",
              " ['image1.png', 'image2.png'],\n",
              " ['image1.png', 'image2.png'],\n",
              " ['image1.png', 'image2.png'],\n",
              " ['image1.png', 'image2.png'],\n",
              " ['image1.png', 'image2.png'],\n",
              " ['image1.png', 'image2.png'],\n",
              " ['image1.png', 'image2.png'],\n",
              " ['image1.png', 'image2.png'],\n",
              " ['image1.png', 'image2.png'],\n",
              " ['image1.png', 'image2.png'],\n",
              " ['image1.png', 'image2.png'],\n",
              " ['image1.png', 'image2.png'],\n",
              " ['image1.png', 'image2.png'],\n",
              " ['image1.png', 'image2.png'],\n",
              " ['image1.png', 'image2.png'],\n",
              " ['image1.png', 'image2.png'],\n",
              " ['image1.png', 'image2.png'],\n",
              " ['image1.png', 'image2.png'],\n",
              " ['image1.png', 'image2.png'],\n",
              " ['image1.png', 'image2.png'],\n",
              " ['image1.png', 'image2.png'],\n",
              " ['image1.png', 'image2.png'],\n",
              " ['image1.png', 'image2.png'],\n",
              " ['image1.png', 'image2.png'],\n",
              " ['image1.png', 'image2.png'],\n",
              " ['image1.png', 'image2.png'],\n",
              " ['image1.png', 'image2.png'],\n",
              " ['image1.png', 'image2.png'],\n",
              " ['image1.png', 'image2.png'],\n",
              " ['image1.png', 'image2.png'],\n",
              " ['image1.png', 'image2.png'],\n",
              " ['image1.png', 'image2.png'],\n",
              " ['image1.png', 'image2.png'],\n",
              " ['image1.png', 'image2.png'],\n",
              " ['image1.png', 'image2.png'],\n",
              " ['image1.png', 'image2.png'],\n",
              " ['image1.png', 'image2.png'],\n",
              " ['image1.png', 'image2.png'],\n",
              " ['image1.png', 'image2.png'],\n",
              " ['image1.png', 'image2.png'],\n",
              " ['image1.png', 'image2.png'],\n",
              " ['image1.png', 'image2.png'],\n",
              " ['image1.png', 'image2.png'],\n",
              " ['image1.png', 'image2.png'],\n",
              " ['image1.png', 'image2.png'],\n",
              " ['image1.png', 'image2.png'],\n",
              " ['image1.png', 'image2.png'],\n",
              " ['image1.png', 'image2.png'],\n",
              " ['image1.png', 'image2.png'],\n",
              " ['image1.png', 'image2.png'],\n",
              " ['image1.png', 'image2.png'],\n",
              " ['image1.png', 'image2.png'],\n",
              " ['image1.png', 'image2.png'],\n",
              " ['image1.png', 'image2.png'],\n",
              " ['image1.png', 'image2.png'],\n",
              " ['image1.png', 'image2.png'],\n",
              " ['image1.png', 'image2.png'],\n",
              " ['image1.png', 'image2.png'],\n",
              " ['image1.png', 'image2.png'],\n",
              " ['image1.png', 'image2.png'],\n",
              " ['image1.png', 'image2.png'],\n",
              " ['image1.png', 'image2.png'],\n",
              " ['image1.png', 'image2.png'],\n",
              " ['image1.png', 'image2.png'],\n",
              " ['image1.png', 'image2.png'],\n",
              " ['image1.png', 'image2.png'],\n",
              " ['image1.png', 'image2.png'],\n",
              " ['image1.png', 'image2.png'],\n",
              " ['image1.png', 'image2.png'],\n",
              " ['image1.png', 'image2.png'],\n",
              " ['image1.png', 'image2.png'],\n",
              " ['image1.png', 'image2.png'],\n",
              " ['image1.png', 'image2.png'],\n",
              " ['image1.png', 'image2.png'],\n",
              " ['image1.png', 'image2.png'],\n",
              " ['image1.png', 'image2.png'],\n",
              " ['image1.png', 'image2.png'],\n",
              " ['image1.png', 'image2.png'],\n",
              " ['image1.png', 'image2.png'],\n",
              " ['image1.png', 'image2.png'],\n",
              " ['image1.png', 'image2.png'],\n",
              " ['image1.png', 'image2.png'],\n",
              " ['image1.png', 'image2.png'],\n",
              " ['image1.png', 'image2.png'],\n",
              " ['image1.png', 'image2.png'],\n",
              " ['image1.png', 'image2.png'],\n",
              " ['image1.png', 'image2.png'],\n",
              " ['image1.png', 'image2.png'],\n",
              " ['image1.png', 'image2.png'],\n",
              " ['image1.png', 'image2.png'],\n",
              " ['image1.png', 'image2.png'],\n",
              " ['image1.png', 'image2.png'],\n",
              " ['image1.png', 'image2.png'],\n",
              " ['image1.png', 'image2.png'],\n",
              " ['image1.png', 'image2.png'],\n",
              " ['image1.png', 'image2.png'],\n",
              " ['image1.png', 'image2.png'],\n",
              " ['image1.png', 'image2.png'],\n",
              " ['image1.png', 'image2.png'],\n",
              " ['image1.png', 'image2.png'],\n",
              " ['image1.png', 'image2.png', 'image3.png', 'image4.png'],\n",
              " ['image1.png', 'image2.png', 'image3.png', 'image4.png'],\n",
              " ['image1.png', 'image2.png', 'image3.png', 'image4.png'],\n",
              " ['image1.png', 'image2.png', 'image3.png', 'image4.png'],\n",
              " ['image1.png', 'image2.png', 'image3.png', 'image4.png'],\n",
              " ['image1.png', 'image2.png', 'image3.png', 'image4.png'],\n",
              " ['image1.png', 'image2.png', 'image3.png', 'image4.png'],\n",
              " ['image1.png', 'image2.png', 'image3.png', 'image4.png'],\n",
              " ['image1.png', 'image2.png', 'image3.png', 'image4.png'],\n",
              " ['image1.png', 'image2.png', 'image3.png', 'image4.png'],\n",
              " ['image1.png', 'image2.png', 'image3.png', 'image4.png'],\n",
              " ['image1.png', 'image2.png', 'image3.png', 'image4.png'],\n",
              " ['image1.png', 'image2.png', 'image3.png', 'image4.png'],\n",
              " ['image1.png', 'image2.png', 'image3.png', 'image4.png'],\n",
              " ['image1.png', 'image2.png', 'image3.png', 'image4.png'],\n",
              " ['image1.png', 'image2.png', 'image3.png', 'image4.png'],\n",
              " ['image1.png', 'image2.png', 'image3.png', 'image4.png'],\n",
              " ['image1.png', 'image2.png', 'image3.png', 'image4.png'],\n",
              " ['image1.png', 'image2.png', 'image3.png', 'image4.png'],\n",
              " ['image1.png', 'image2.png', 'image3.png', 'image4.png'],\n",
              " ['image1.png', 'image2.png', 'image3.png', 'image4.png'],\n",
              " ['image1.png', 'image2.png', 'image3.png', 'image4.png'],\n",
              " ['image1.png', 'image2.png', 'image3.png', 'image4.png'],\n",
              " ['image1.png', 'image2.png'],\n",
              " ['image1.png', 'image2.png'],\n",
              " ['image1.png', 'image2.png'],\n",
              " ['image1.png', 'image2.png'],\n",
              " ['image1.png', 'image2.png'],\n",
              " ['image1.png', 'image2.png'],\n",
              " ['image1.png', 'image2.png'],\n",
              " ['image1.png', 'image2.png'],\n",
              " ['image1.png', 'image2.png'],\n",
              " ['image1.png', 'image2.png'],\n",
              " ['image1.png', 'image2.png'],\n",
              " ['image1.png', 'image2.png'],\n",
              " ['image1.png', 'image2.png'],\n",
              " ['image1.png', 'image2.png'],\n",
              " ['image1.png', 'image2.png'],\n",
              " ['image1.png', 'image2.png'],\n",
              " ['image1.png', 'image2.png'],\n",
              " ['image1.png', 'image2.png'],\n",
              " ['image1.png', 'image2.png'],\n",
              " ['image1.png', 'image2.png'],\n",
              " ['image1.png', 'image2.png'],\n",
              " ['image1.png', 'image2.png'],\n",
              " ['image1.png', 'image2.png'],\n",
              " ['image1.png', 'image2.png', 'image3.png'],\n",
              " ['image1.png', 'image2.png', 'image3.png'],\n",
              " ['image1.png', 'image2.png', 'image3.png'],\n",
              " ['image1.png', 'image2.png', 'image3.png'],\n",
              " ['image1.png', 'image2.png', 'image3.png'],\n",
              " ['image1.png', 'image2.png', 'image3.png'],\n",
              " ['image1.png', 'image2.png', 'image3.png'],\n",
              " ['image1.png', 'image2.png', 'image3.png'],\n",
              " ['image1.png', 'image2.png', 'image3.png'],\n",
              " ['image1.png', 'image2.png', 'image3.png'],\n",
              " ['image1.png', 'image2.png', 'image3.png'],\n",
              " ['image1.png', 'image2.png', 'image3.png'],\n",
              " ['image1.png', 'image2.png', 'image3.png'],\n",
              " ['image1.png', 'image2.png', 'image3.png'],\n",
              " ['image1.png', 'image2.png', 'image3.png'],\n",
              " ['image1.png', 'image2.png', 'image3.png'],\n",
              " ['image1.png', 'image2.png', 'image3.png'],\n",
              " ['image1.png', 'image2.png', 'image3.png'],\n",
              " ['image1.png', 'image2.png', 'image3.png'],\n",
              " ['image1.png', 'image2.png', 'image3.png'],\n",
              " ['image1.png', 'image2.png', 'image3.png'],\n",
              " ['image1.png', 'image2.png', 'image3.png'],\n",
              " ['image1.png', 'image2.png', 'image3.png'],\n",
              " ['image1.png', 'image2.png', 'image3.png'],\n",
              " ['image1.png', 'image2.png', 'image3.png'],\n",
              " ['image1.png', 'image2.png', 'image3.png'],\n",
              " ['image1.png', 'image2.png', 'image3.png'],\n",
              " ['image1.png', 'image2.png', 'image3.png'],\n",
              " ['image1.png', 'image2.png', 'image3.png'],\n",
              " ['image1.png', 'image2.png', 'image3.png'],\n",
              " ['image1.png', 'image2.png', 'image3.png'],\n",
              " ['image1.png', 'image2.png', 'image3.png'],\n",
              " ['image1.png', 'image2.png', 'image3.png'],\n",
              " ['image1.png', 'image2.png', 'image3.png'],\n",
              " ['image1.png', 'image2.png', 'image3.png'],\n",
              " ['image1.png', 'image2.png', 'image3.png'],\n",
              " ['image1.png', 'image2.png', 'image3.png'],\n",
              " ['image1.png', 'image2.png', 'image3.png'],\n",
              " ['image1.png', 'image2.png', 'image3.png'],\n",
              " ['image1.png', 'image2.png', 'image3.png'],\n",
              " ['image1.png', 'image2.png', 'image3.png'],\n",
              " ['image1.png', 'image2.png', 'image3.png'],\n",
              " ['image1.png', 'image2.png', 'image3.png'],\n",
              " ['image1.png', 'image2.png', 'image3.png'],\n",
              " ['image1.png', 'image2.png', 'image3.png'],\n",
              " ['image1.png', 'image2.png', 'image3.png'],\n",
              " ['image1.png', 'image2.png'],\n",
              " ['image1.png', 'image2.png'],\n",
              " ['image1.png', 'image2.png'],\n",
              " ['image1.png', 'image2.png'],\n",
              " ['image1.png', 'image2.png'],\n",
              " ['image1.png', 'image2.png'],\n",
              " ['image1.png', 'image2.png'],\n",
              " ['image1.png', 'image2.png'],\n",
              " ['image1.png', 'image2.png'],\n",
              " ['image1.png', 'image2.png'],\n",
              " ['image1.png', 'image2.png'],\n",
              " ['image1.png', 'image2.png'],\n",
              " ['image1.png', 'image2.png'],\n",
              " ['image1.png', 'image2.png'],\n",
              " ['image1.png', 'image2.png'],\n",
              " ['image1.png', 'image2.png'],\n",
              " ['image1.png', 'image2.png'],\n",
              " ['image1.png', 'image2.png'],\n",
              " ['image1.png', 'image2.png'],\n",
              " ['image1.png', 'image2.png'],\n",
              " ['image1.png', 'image2.png'],\n",
              " ['image1.png', 'image2.png'],\n",
              " ['image1.png', 'image2.png'],\n",
              " ['image1.png', 'image2.png', 'image3.png'],\n",
              " ['image1.png', 'image2.png', 'image3.png'],\n",
              " ['image1.png', 'image2.png', 'image3.png'],\n",
              " ['image1.png', 'image2.png', 'image3.png'],\n",
              " ['image1.png', 'image2.png', 'image3.png'],\n",
              " ['image1.png', 'image2.png', 'image3.png'],\n",
              " ['image1.png', 'image2.png', 'image3.png'],\n",
              " ['image1.png', 'image2.png', 'image3.png'],\n",
              " ['image1.png', 'image2.png', 'image3.png'],\n",
              " ['image1.png', 'image2.png', 'image3.png'],\n",
              " ['image1.png', 'image2.png', 'image3.png'],\n",
              " ['image1.png', 'image2.png', 'image3.png'],\n",
              " ['image1.png', 'image2.png', 'image3.png'],\n",
              " ['image1.png', 'image2.png', 'image3.png'],\n",
              " ['image1.png', 'image2.png', 'image3.png'],\n",
              " ['image1.png', 'image2.png', 'image3.png'],\n",
              " ['image1.png', 'image2.png', 'image3.png'],\n",
              " ['image1.png', 'image2.png', 'image3.png'],\n",
              " ['image1.png', 'image2.png', 'image3.png'],\n",
              " ['image1.png', 'image2.png', 'image3.png'],\n",
              " ['image1.png', 'image2.png', 'image3.png'],\n",
              " ['image1.png', 'image2.png', 'image3.png'],\n",
              " ['image1.png', 'image2.png', 'image3.png'],\n",
              " ['image1.png', 'image2.png', 'image3.png'],\n",
              " ['image1.png', 'image2.png', 'image3.png'],\n",
              " ['image1.png', 'image2.png', 'image3.png'],\n",
              " ['image1.png', 'image2.png', 'image3.png'],\n",
              " ['image1.png', 'image2.png', 'image3.png'],\n",
              " ['image1.png', 'image2.png', 'image3.png'],\n",
              " ['image1.png', 'image2.png', 'image3.png'],\n",
              " ['image1.png', 'image2.png', 'image3.png'],\n",
              " ['image1.png', 'image2.png', 'image3.png'],\n",
              " ['image1.png', 'image2.png', 'image3.png'],\n",
              " ['image1.png', 'image2.png', 'image3.png'],\n",
              " ['image1.png', 'image2.png', 'image3.png'],\n",
              " ['image1.png', 'image2.png', 'image3.png'],\n",
              " ['image1.png', 'image2.png', 'image3.png'],\n",
              " ['image1.png', 'image2.png', 'image3.png'],\n",
              " ['image1.png', 'image2.png', 'image3.png'],\n",
              " ['image1.png', 'image2.png', 'image3.png'],\n",
              " ['image1.png', 'image2.png', 'image3.png'],\n",
              " ['image1.png', 'image2.png', 'image3.png'],\n",
              " ['image1.png', 'image2.png', 'image3.png'],\n",
              " ['image1.png', 'image2.png', 'image3.png'],\n",
              " ['image1.png', 'image2.png', 'image3.png'],\n",
              " ['image1.png', 'image2.png', 'image3.png'],\n",
              " ['image1.png', 'image2.png'],\n",
              " ['image1.png', 'image2.png'],\n",
              " ['image1.png', 'image2.png'],\n",
              " ['image1.png', 'image2.png'],\n",
              " ['image1.png', 'image2.png'],\n",
              " ['image1.png', 'image2.png'],\n",
              " ['image1.png', 'image2.png'],\n",
              " ['image1.png', 'image2.png'],\n",
              " ['image1.png', 'image2.png'],\n",
              " ['image1.png', 'image2.png'],\n",
              " ['image1.png', 'image2.png'],\n",
              " ['image1.png', 'image2.png'],\n",
              " ['image1.png', 'image2.png'],\n",
              " ['image1.png', 'image2.png'],\n",
              " ['image1.png', 'image2.png'],\n",
              " ['image1.png', 'image2.png'],\n",
              " ['image1.png', 'image2.png'],\n",
              " ['image1.png', 'image2.png'],\n",
              " ['image1.png', 'image2.png'],\n",
              " ['image1.png', 'image2.png'],\n",
              " ['image1.png', 'image2.png'],\n",
              " ['image1.png', 'image2.png'],\n",
              " ['image1.png', 'image2.png'],\n",
              " ['image1.png', 'image2.png', 'image3.png', 'image4.png'],\n",
              " ['image1.png', 'image2.png', 'image3.png', 'image4.png'],\n",
              " ['image1.png', 'image2.png', 'image3.png', 'image4.png'],\n",
              " ['image1.png', 'image2.png', 'image3.png', 'image4.png'],\n",
              " ['image1.png', 'image2.png', 'image3.png', 'image4.png'],\n",
              " ['image1.png', 'image2.png', 'image3.png', 'image4.png'],\n",
              " ['image1.png', 'image2.png', 'image3.png', 'image4.png'],\n",
              " ['image1.png', 'image2.png', 'image3.png', 'image4.png'],\n",
              " ['image1.png', 'image2.png', 'image3.png', 'image4.png'],\n",
              " ['image1.png', 'image2.png', 'image3.png', 'image4.png'],\n",
              " ['image1.png', 'image2.png', 'image3.png', 'image4.png'],\n",
              " ['image1.png', 'image2.png', 'image3.png', 'image4.png'],\n",
              " ['image1.png', 'image2.png', 'image3.png', 'image4.png'],\n",
              " ['image1.png', 'image2.png', 'image3.png', 'image4.png'],\n",
              " ['image1.png', 'image2.png', 'image3.png', 'image4.png'],\n",
              " ['image1.png', 'image2.png', 'image3.png', 'image4.png'],\n",
              " ['image1.png', 'image2.png', 'image3.png', 'image4.png'],\n",
              " ['image1.png', 'image2.png', 'image3.png', 'image4.png'],\n",
              " ['image1.png', 'image2.png', 'image3.png', 'image4.png'],\n",
              " ['image1.png', 'image2.png', 'image3.png', 'image4.png'],\n",
              " ['image1.png', 'image2.png', 'image3.png', 'image4.png'],\n",
              " ['image1.png', 'image2.png', 'image3.png', 'image4.png'],\n",
              " ['image1.png', 'image2.png', 'image3.png', 'image4.png'],\n",
              " ['image1.png', 'image2.png'],\n",
              " ['image1.png', 'image2.png'],\n",
              " ['image1.png', 'image2.png'],\n",
              " ['image1.png', 'image2.png'],\n",
              " ['image1.png', 'image2.png'],\n",
              " ['image1.png', 'image2.png'],\n",
              " ['image1.png', 'image2.png'],\n",
              " ['image1.png', 'image2.png'],\n",
              " ['image1.png', 'image2.png'],\n",
              " ['image1.png', 'image2.png'],\n",
              " ['image1.png', 'image2.png'],\n",
              " ['image1.png', 'image2.png'],\n",
              " ['image1.png', 'image2.png'],\n",
              " ['image1.png', 'image2.png'],\n",
              " ['image1.png', 'image2.png'],\n",
              " ['image1.png', 'image2.png'],\n",
              " ['image1.png', 'image2.png'],\n",
              " ['image1.png', 'image2.png'],\n",
              " ['image1.png', 'image2.png'],\n",
              " ['image1.png', 'image2.png'],\n",
              " ['image1.png', 'image2.png'],\n",
              " ['image1.png', 'image2.png'],\n",
              " ['image1.png', 'image2.png'],\n",
              " ['image1.png', 'image2.png'],\n",
              " ['image1.png', 'image2.png'],\n",
              " ['image1.png', 'image2.png'],\n",
              " ['image1.png', 'image2.png'],\n",
              " ['image1.png', 'image2.png'],\n",
              " ['image1.png', 'image2.png'],\n",
              " ['image1.png', 'image2.png'],\n",
              " ['image1.png', 'image2.png'],\n",
              " ['image1.png', 'image2.png'],\n",
              " ['image1.png', 'image2.png'],\n",
              " ['image1.png', 'image2.png'],\n",
              " ['image1.png', 'image2.png'],\n",
              " ['image1.png', 'image2.png'],\n",
              " ['image1.png', 'image2.png'],\n",
              " ['image1.png', 'image2.png'],\n",
              " ['image1.png', 'image2.png'],\n",
              " ['image1.png', 'image2.png'],\n",
              " ['image1.png', 'image2.png'],\n",
              " ['image1.png', 'image2.png'],\n",
              " ['image1.png', 'image2.png'],\n",
              " ['image1.png', 'image2.png'],\n",
              " ['image1.png', 'image2.png'],\n",
              " ['image1.png', 'image2.png']]"
            ]
          },
          "metadata": {
            "tags": []
          },
          "execution_count": 202
        }
      ]
    },
    {
      "cell_type": "code",
      "metadata": {
        "id": "PVyCLGjNBlRl",
        "colab_type": "code",
        "colab": {}
      },
      "source": [
        "def extract(num):\n",
        "  sample_pos1=pos_elbow_imgs[0:num]\n",
        "  sample_neg1=neg_elbow_imgs[0:num]\n",
        "  return [sample_pos1,sample_neg1]"
      ],
      "execution_count": 0,
      "outputs": []
    },
    {
      "cell_type": "code",
      "metadata": {
        "id": "rzDKOqvoBlRn",
        "colab_type": "code",
        "outputId": "06e29b10-493d-4835-ad76-954bf3a33720",
        "colab": {}
      },
      "source": [
        "data = extract(10)\n",
        "data"
      ],
      "execution_count": 0,
      "outputs": [
        {
          "output_type": "execute_result",
          "data": {
            "text/plain": [
              "[[['image1.png', 'image2.png', 'image3.png'],\n",
              "  ['image1.png', 'image2.png', 'image3.png'],\n",
              "  ['image1.png', 'image2.png', 'image3.png'],\n",
              "  ['image1.png', 'image2.png', 'image3.png'],\n",
              "  ['image1.png', 'image2.png', 'image3.png'],\n",
              "  ['image1.png', 'image2.png', 'image3.png'],\n",
              "  ['image1.png', 'image2.png', 'image3.png'],\n",
              "  ['image1.png', 'image2.png', 'image3.png'],\n",
              "  ['image1.png', 'image2.png', 'image3.png'],\n",
              "  ['image1.png', 'image2.png', 'image3.png']]]"
            ]
          },
          "metadata": {
            "tags": []
          },
          "execution_count": 241
        }
      ]
    },
    {
      "cell_type": "code",
      "metadata": {
        "id": "MrpXPmCwBlRq",
        "colab_type": "code",
        "colab": {}
      },
      "source": [
        "#Extracting Images\n",
        "for x in data:\n",
        "    for i in range(len(x)):\n",
        "        y =len(x[i])\n",
        "        #print(y)\n",
        "        for j in range(len(x[i])):\n",
        "            #images=cv.imread(XR_ELBOW_path+'/'+elbow_list[i]+'/'+str(x[i][j])\n",
        "            print(x[i][j])\n",
        "            \n",
        "        #\n",
        "        #for(j <= y):\n",
        "            #print(x[i][j])\n",
        "            \n",
        "            #print(x[i][j:])\n",
        "        #print(x[i])\n",
        "    #print(x)\n",
        "    #for i in range(len(x)):\n",
        "        \n",
        "        #for j in range(len(x[i])):\n",
        "            #print(x[i])\n",
        "        \n",
        "        \n",
        "    \n",
        "    #images=cv.imread(path_image+'/'+name_list[j]+'/'+x[i][0])\n",
        "    #images=cv.resize(images, (224,224)) \n",
        "    #print(x)"
      ],
      "execution_count": 0,
      "outputs": []
    },
    {
      "cell_type": "code",
      "metadata": {
        "id": "gaAYt7R1BlRs",
        "colab_type": "code",
        "colab": {}
      },
      "source": [
        "images=cv.imread(XR_ELBOW_path+'/'+str(elbow_list[0])+'/'+str(data[0][0]))\n",
        "images=cv.resize(images, (224,224)) \n",
        "\n",
        "for i in range(len(elbow_list)):\n",
        "    gt = os.listdir(XR_ELBOW_path+'/'+elbow_list[i])\n",
        "    #print(gt)\n",
        "    #print(t[0][7:])\n",
        "    if(gt[0][7:]==\"negative\"):\n",
        "        for j in range(len(XR_ELBOW_patients_neg)):\n",
        "            gt1 = os.listdir(XR_ELBOW_path+'/'+elbow_list[i]+'/'+str(XR_ELBOW_patients_neg[j][0]))"
      ],
      "execution_count": 0,
      "outputs": []
    },
    {
      "cell_type": "code",
      "metadata": {
        "id": "PQ6Pq1ChBlRv",
        "colab_type": "code",
        "outputId": "76a3aee1-237b-4e99-cd34-dcc804c9a182",
        "colab": {}
      },
      "source": [
        "training=[]\n",
        "target=[]\n",
        "j=0\n",
        "for x in data:\n",
        "  for i in range(len(x)):\n",
        "    images=cv.imread(XR_ELBOW_path+'/'+elbow_list[i]+'/'+str(x[j][0])\n",
        "    #images=cv.resize(images, (224,224)) \n",
        "    print(x)\n",
        "    #if x[0][0:3]=='dog': #it is taking first row in which first three words are checked as dog\n",
        "      #target.append(0)\n",
        "    #else:\n",
        "      #target.append(1)\n",
        "    #training.append(images)\n",
        "  j=j+1"
      ],
      "execution_count": 0,
      "outputs": [
        {
          "output_type": "stream",
          "text": [
            "[['study1_positive'], ['study1_positive'], ['study1_positive'], ['study1_positive'], ['study1_positive'], ['study1_positive'], ['study1_positive'], ['study1_positive'], ['study1_positive'], ['study1_positive']]\n",
            "[['study1_positive'], ['study1_positive'], ['study1_positive'], ['study1_positive'], ['study1_positive'], ['study1_positive'], ['study1_positive'], ['study1_positive'], ['study1_positive'], ['study1_positive']]\n",
            "[['study1_positive'], ['study1_positive'], ['study1_positive'], ['study1_positive'], ['study1_positive'], ['study1_positive'], ['study1_positive'], ['study1_positive'], ['study1_positive'], ['study1_positive']]\n",
            "[['study1_positive'], ['study1_positive'], ['study1_positive'], ['study1_positive'], ['study1_positive'], ['study1_positive'], ['study1_positive'], ['study1_positive'], ['study1_positive'], ['study1_positive']]\n",
            "[['study1_positive'], ['study1_positive'], ['study1_positive'], ['study1_positive'], ['study1_positive'], ['study1_positive'], ['study1_positive'], ['study1_positive'], ['study1_positive'], ['study1_positive']]\n",
            "[['study1_positive'], ['study1_positive'], ['study1_positive'], ['study1_positive'], ['study1_positive'], ['study1_positive'], ['study1_positive'], ['study1_positive'], ['study1_positive'], ['study1_positive']]\n",
            "[['study1_positive'], ['study1_positive'], ['study1_positive'], ['study1_positive'], ['study1_positive'], ['study1_positive'], ['study1_positive'], ['study1_positive'], ['study1_positive'], ['study1_positive']]\n",
            "[['study1_positive'], ['study1_positive'], ['study1_positive'], ['study1_positive'], ['study1_positive'], ['study1_positive'], ['study1_positive'], ['study1_positive'], ['study1_positive'], ['study1_positive']]\n",
            "[['study1_positive'], ['study1_positive'], ['study1_positive'], ['study1_positive'], ['study1_positive'], ['study1_positive'], ['study1_positive'], ['study1_positive'], ['study1_positive'], ['study1_positive']]\n",
            "[['study1_positive'], ['study1_positive'], ['study1_positive'], ['study1_positive'], ['study1_positive'], ['study1_positive'], ['study1_positive'], ['study1_positive'], ['study1_positive'], ['study1_positive']]\n",
            "[['study1_negative'], ['study1_negative'], ['study1_negative'], ['study1_negative'], ['study1_negative'], ['study1_negative'], ['study1_negative'], ['study1_negative'], ['study1_negative'], ['study1_negative']]\n",
            "[['study1_negative'], ['study1_negative'], ['study1_negative'], ['study1_negative'], ['study1_negative'], ['study1_negative'], ['study1_negative'], ['study1_negative'], ['study1_negative'], ['study1_negative']]\n",
            "[['study1_negative'], ['study1_negative'], ['study1_negative'], ['study1_negative'], ['study1_negative'], ['study1_negative'], ['study1_negative'], ['study1_negative'], ['study1_negative'], ['study1_negative']]\n",
            "[['study1_negative'], ['study1_negative'], ['study1_negative'], ['study1_negative'], ['study1_negative'], ['study1_negative'], ['study1_negative'], ['study1_negative'], ['study1_negative'], ['study1_negative']]\n",
            "[['study1_negative'], ['study1_negative'], ['study1_negative'], ['study1_negative'], ['study1_negative'], ['study1_negative'], ['study1_negative'], ['study1_negative'], ['study1_negative'], ['study1_negative']]\n",
            "[['study1_negative'], ['study1_negative'], ['study1_negative'], ['study1_negative'], ['study1_negative'], ['study1_negative'], ['study1_negative'], ['study1_negative'], ['study1_negative'], ['study1_negative']]\n",
            "[['study1_negative'], ['study1_negative'], ['study1_negative'], ['study1_negative'], ['study1_negative'], ['study1_negative'], ['study1_negative'], ['study1_negative'], ['study1_negative'], ['study1_negative']]\n",
            "[['study1_negative'], ['study1_negative'], ['study1_negative'], ['study1_negative'], ['study1_negative'], ['study1_negative'], ['study1_negative'], ['study1_negative'], ['study1_negative'], ['study1_negative']]\n",
            "[['study1_negative'], ['study1_negative'], ['study1_negative'], ['study1_negative'], ['study1_negative'], ['study1_negative'], ['study1_negative'], ['study1_negative'], ['study1_negative'], ['study1_negative']]\n",
            "[['study1_negative'], ['study1_negative'], ['study1_negative'], ['study1_negative'], ['study1_negative'], ['study1_negative'], ['study1_negative'], ['study1_negative'], ['study1_negative'], ['study1_negative']]\n"
          ],
          "name": "stdout"
        }
      ]
    },
    {
      "cell_type": "code",
      "metadata": {
        "id": "eDPZcXnjBlRx",
        "colab_type": "code",
        "colab": {}
      },
      "source": [
        "os.path.join(XR_FINGER_patients+'/'+\"CSV\")"
      ],
      "execution_count": 0,
      "outputs": []
    },
    {
      "cell_type": "code",
      "metadata": {
        "id": "Qqt78uqQBlRz",
        "colab_type": "code",
        "outputId": "2a408c2e-d8b1-41fa-ca60-104bea22034f",
        "colab": {}
      },
      "source": [
        "XR_ELBOW_patients1 = []\n",
        "XR_FINGER_patients1 = []\n",
        "for i in range(len(XR_ELBOW_patients)):\n",
        "    gt = os.listdir(home_path+'/'+XR_ELBOW_patients[i])\n",
        "    XR_ELBOW_patients1.append(gt)\n",
        "    #if(name_list[i]==''):\n",
        "        \n",
        "    #elif(name_list[i]=='XR_FINGER_patients'):\n",
        "        #gt = os.listdir(home_path+'/'+name_list[i])\n",
        "        #XR_FINGER_patients1.append(gt)"
      ],
      "execution_count": 0,
      "outputs": [
        {
          "output_type": "error",
          "ename": "TypeError",
          "evalue": "can only concatenate str (not \"list\") to str",
          "traceback": [
            "\u001b[1;31m---------------------------------------------------------------------------\u001b[0m",
            "\u001b[1;31mTypeError\u001b[0m                                 Traceback (most recent call last)",
            "\u001b[1;32m<ipython-input-52-26d081aca6fd>\u001b[0m in \u001b[0;36m<module>\u001b[1;34m\u001b[0m\n\u001b[0;32m      2\u001b[0m \u001b[0mXR_FINGER_patients1\u001b[0m \u001b[1;33m=\u001b[0m \u001b[1;33m[\u001b[0m\u001b[1;33m]\u001b[0m\u001b[1;33m\u001b[0m\u001b[1;33m\u001b[0m\u001b[0m\n\u001b[0;32m      3\u001b[0m \u001b[1;32mfor\u001b[0m \u001b[0mi\u001b[0m \u001b[1;32min\u001b[0m \u001b[0mrange\u001b[0m\u001b[1;33m(\u001b[0m\u001b[0mlen\u001b[0m\u001b[1;33m(\u001b[0m\u001b[0mXR_ELBOW_patients\u001b[0m\u001b[1;33m)\u001b[0m\u001b[1;33m)\u001b[0m\u001b[1;33m:\u001b[0m\u001b[1;33m\u001b[0m\u001b[1;33m\u001b[0m\u001b[0m\n\u001b[1;32m----> 4\u001b[1;33m     \u001b[0mgt\u001b[0m \u001b[1;33m=\u001b[0m \u001b[0mos\u001b[0m\u001b[1;33m.\u001b[0m\u001b[0mlistdir\u001b[0m\u001b[1;33m(\u001b[0m\u001b[0mhome_path\u001b[0m\u001b[1;33m+\u001b[0m\u001b[1;34m'/'\u001b[0m\u001b[1;33m+\u001b[0m\u001b[0mXR_ELBOW_patients\u001b[0m\u001b[1;33m[\u001b[0m\u001b[0mi\u001b[0m\u001b[1;33m]\u001b[0m\u001b[1;33m)\u001b[0m\u001b[1;33m\u001b[0m\u001b[1;33m\u001b[0m\u001b[0m\n\u001b[0m\u001b[0;32m      5\u001b[0m     \u001b[0mXR_ELBOW_patients1\u001b[0m\u001b[1;33m.\u001b[0m\u001b[0mappend\u001b[0m\u001b[1;33m(\u001b[0m\u001b[0mgt\u001b[0m\u001b[1;33m)\u001b[0m\u001b[1;33m\u001b[0m\u001b[1;33m\u001b[0m\u001b[0m\n\u001b[0;32m      6\u001b[0m     \u001b[1;31m#if(name_list[i]==''):\u001b[0m\u001b[1;33m\u001b[0m\u001b[1;33m\u001b[0m\u001b[1;33m\u001b[0m\u001b[0m\n",
            "\u001b[1;31mTypeError\u001b[0m: can only concatenate str (not \"list\") to str"
          ]
        }
      ]
    },
    {
      "cell_type": "code",
      "metadata": {
        "id": "-NISaF7sBlR2",
        "colab_type": "code",
        "outputId": "f46c2bc3-9026-4a35-e4df-460a1ea761ff",
        "colab": {}
      },
      "source": [
        "sample_finger = XR_FINGER_patients[0][0:10]\n",
        "sample_finger"
      ],
      "execution_count": 0,
      "outputs": [
        {
          "output_type": "execute_result",
          "data": {
            "text/plain": [
              "['patient00011',\n",
              " 'patient00042',\n",
              " 'patient00050',\n",
              " 'patient00114',\n",
              " 'patient00127',\n",
              " 'patient00169',\n",
              " 'patient00192',\n",
              " 'patient00195',\n",
              " 'patient00206',\n",
              " 'patient00226']"
            ]
          },
          "metadata": {
            "tags": []
          },
          "execution_count": 46
        }
      ]
    },
    {
      "cell_type": "code",
      "metadata": {
        "id": "n6GaPHcmBlR5",
        "colab_type": "code",
        "colab": {}
      },
      "source": [
        "sample_elbow = XR_ELBOW_patients[0][0:10]"
      ],
      "execution_count": 0,
      "outputs": []
    },
    {
      "cell_type": "code",
      "metadata": {
        "id": "997iEfr1BlR9",
        "colab_type": "code",
        "colab": {}
      },
      "source": [
        "images"
      ],
      "execution_count": 0,
      "outputs": []
    },
    {
      "cell_type": "code",
      "metadata": {
        "id": "Qffc2gFQBlSA",
        "colab_type": "code",
        "colab": {}
      },
      "source": [
        ""
      ],
      "execution_count": 0,
      "outputs": []
    },
    {
      "cell_type": "code",
      "metadata": {
        "id": "fgDeR1pXBlSE",
        "colab_type": "code",
        "colab": {}
      },
      "source": [
        ""
      ],
      "execution_count": 0,
      "outputs": []
    }
  ]
}